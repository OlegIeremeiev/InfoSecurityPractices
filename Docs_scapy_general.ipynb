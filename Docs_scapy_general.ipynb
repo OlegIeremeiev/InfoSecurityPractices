{
 "cells": [
  {
   "cell_type": "markdown",
   "id": "8effac450df7b378",
   "metadata": {
    "collapsed": false
   },
   "source": [
    "# Основи мереж зі Scapy"
   ]
  },
  {
   "cell_type": "markdown",
   "id": "e5e2eecb",
   "metadata": {},
   "source": [
    "## 1 Загальні налаштування Scapy "
   ]
  },
  {
   "cell_type": "markdown",
   "id": "940c6ada3560196b",
   "metadata": {
    "collapsed": false
   },
   "source": [
    "### 1.1 Встановлення Scapy\n",
    "\n",
    "**Вимоги** - має бути встановлені `python3` і пакетний менеджер `pip`\n",
    "\n",
    "Документація по встановленню: [[https://scapy.readthedocs.io/en/latest/installation.html]]\n",
    "\n",
    "Встановлення Scapy:  \n",
    "> В залежності від ОС може потребувати `pip3` замість `pip`  \n",
    "\n",
    "Команда командного рядка:\n",
    "```  \n",
    "pip install scapy  \n",
    "```\n",
    "або засобами Python прямо в блокноті:"
   ]
  },
  {
   "cell_type": "code",
   "execution_count": null,
   "id": "be525497",
   "metadata": {},
   "outputs": [],
   "source": [
    "!pip install scapy"
   ]
  },
  {
   "cell_type": "markdown",
   "id": "fd7f03f401d557b",
   "metadata": {
    "collapsed": false
   },
   "source": [
    "### 1.2 Імпорт Scapy"
   ]
  },
  {
   "cell_type": "code",
   "execution_count": 2,
   "id": "c75cf01f5b136de3",
   "metadata": {
    "collapsed": false
   },
   "outputs": [],
   "source": [
    "from scapy.all import *"
   ]
  },
  {
   "cell_type": "markdown",
   "id": "2e966eac",
   "metadata": {},
   "source": [
    "### 1.3 Особливості операційних систем\n",
    "\n",
    "##### Windows\n",
    "Після імпорту бібліотеки у випадку попередження \n",
    "```\n",
    "WARNING! No libpcap provider available! pcap won`t be used\n",
    "``` \n",
    "слід також встановити програму-аналізатор мережних пакетів Wireshark з офіційної сторінки https://www.wireshark.org\n",
    "> Програма знадобиться як в рамках даного курсу, так і з інших мережних дисциплін\n",
    "\n",
    "##### Linux\n",
    "В ОС Linux Scapy потребує прав адміністратора для доступу до сокета і роботою з пакетами. У вікні термінала запускається команда з підтвердженням паролем\n",
    "```\n",
    "sudo jupyter notebook --allow-root\n",
    "```\n",
    "Після запуску Jupyter-сервера відображається **одноразове** посилання для роботи у браузері, подібне до `http://127.0.0.1:8888/tree?token=0c86a75d0aa67fc4cb412ee587b990806b3095b63e9d1a6f`\n",
    "\n",
    "### 1.4 Інтеграція з додатками\n",
    "\n",
    "1. Робота в браузері - відкрити посилання і знайти файл блокноту в домашньому каталозі\n",
    "2. Робота в Intellij IDEA / PyCharm: `Tools -> Add Jupyter Connection -> Connect to Jupyter server using URL` (не запрацювало)\n",
    "3. Робота в Visual Studio Code: `Select Kernel -> Select Another Kernel -> Existing Jupyter Server -> Enter the URL`\n"
   ]
  },
  {
   "cell_type": "markdown",
   "id": "b8764f54",
   "metadata": {},
   "source": [
    "## 2 Основи Scapy\n",
    "\n",
    "З мануалу https://scapy.readthedocs.io/en/latest/usage.html"
   ]
  },
  {
   "cell_type": "markdown",
   "id": "9f10dbc7",
   "metadata": {},
   "source": [
    "### 2.1 Створення пакету і стекування рівнів"
   ]
  },
  {
   "cell_type": "markdown",
   "id": "b3920a5082f69078",
   "metadata": {
    "collapsed": false
   },
   "source": [
    "##### Створення пакету\n",
    "\n",
    "У Scapy кожен мережний рівень є класом Python.\n",
    "\n",
    "Створення пакету ІР та приклади інших протоколів з певними параметрами:"
   ]
  },
  {
   "cell_type": "code",
   "execution_count": 1,
   "id": "784a4ce4",
   "metadata": {},
   "outputs": [
    {
     "data": {
      "text/plain": [
       "<IP  ttl=10 dst=192.168.1.1 |>"
      ]
     },
     "execution_count": 1,
     "metadata": {},
     "output_type": "execute_result"
    }
   ],
   "source": [
    "from scapy.all import *\n",
    "\n",
    "ip  = IP(ttl=10, dst=\"192.168.1.1\")\n",
    "ip"
   ]
  },
  {
   "cell_type": "code",
   "execution_count": 7,
   "id": "4bbf91c9",
   "metadata": {},
   "outputs": [],
   "source": [
    "i = IP()\n",
    "t = TCP(dport=80)\n",
    "e = Ether()"
   ]
  },
  {
   "cell_type": "markdown",
   "id": "d0c3d659",
   "metadata": {},
   "source": [
    "##### Стекування протоколів\n",
    "\n",
    "**Оператор '/'** - поєднання протоколів різного рівня \\\n",
    "Використовується для зв'язування шарів. Розміщення сегменту TCP поверх IP і призначення його змінній пакету, а потім накладання його поверх Ethernet.\n",
    "\n",
    "Вивід відображає узагальнену інформацію пакета. Scapy автоматично заповнив тип Ethernet, а також поле IP-протоколу."
   ]
  },
  {
   "cell_type": "code",
   "execution_count": 9,
   "id": "e706e2c5ce69d49b",
   "metadata": {
    "ExecuteTime": {
     "end_time": "2023-09-18T12:13:13.979217742Z",
     "start_time": "2023-09-18T12:13:13.976331423Z"
    },
    "collapsed": false
   },
   "outputs": [
    {
     "data": {
      "text/plain": [
       "<Ether  type=IPv4 |<IP  frag=0 ttl=10 proto=tcp dst=192.168.1.1 |<TCP  dport=http |>>>"
      ]
     },
     "execution_count": 9,
     "metadata": {},
     "output_type": "execute_result"
    }
   ],
   "source": [
    "packet = IP(ttl=10, dst=\"192.168.1.1\")/TCP(dport=80)\n",
    "eth = Ether()/packet\n",
    "eth"
   ]
  },
  {
   "cell_type": "markdown",
   "id": "30436b7f",
   "metadata": {},
   "source": [
    "##### Створення пакету з заданим полем"
   ]
  },
  {
   "cell_type": "code",
   "execution_count": 3,
   "id": "fed00b07",
   "metadata": {},
   "outputs": [
    {
     "data": {
      "text/plain": [
       "<Ether  type=IPv4 |<IP  frag=0 proto=tcp dst=8.8.8.8 |<TCP  |>>>"
      ]
     },
     "execution_count": 3,
     "metadata": {},
     "output_type": "execute_result"
    }
   ],
   "source": [
    "Ether()/IP(dst=\"8.8.8.8\")/TCP()"
   ]
  },
  {
   "cell_type": "markdown",
   "id": "bf188bc6",
   "metadata": {},
   "source": [
    "##### Створення пакету по доменному імені адресата"
   ]
  },
  {
   "cell_type": "code",
   "execution_count": 4,
   "id": "df27ebc1",
   "metadata": {},
   "outputs": [
    {
     "data": {
      "text/plain": [
       "<Ether  type=IPv4 |<IP  frag=0 proto=tcp dst=Net(\"www.secdev.org/32\") |<TCP  |>>>"
      ]
     },
     "execution_count": 4,
     "metadata": {},
     "output_type": "execute_result"
    }
   ],
   "source": [
    "p = Ether()/IP(dst=\"www.secdev.org\")/TCP()\n",
    "p"
   ]
  },
  {
   "cell_type": "markdown",
   "id": "630a028c",
   "metadata": {},
   "source": [
    "### 2.2 Відображення інформації"
   ]
  },
  {
   "cell_type": "markdown",
   "id": "16b582e7",
   "metadata": {},
   "source": [
    "##### Основні команди (таблиця)\n",
    "\n",
    "Команда|Ефект\n",
    "-|-\n",
    "raw (pkt)|зібрати пакет\n",
    "hexdump(pkt)|отримання шістнадцяткового дампу\n",
    "ls (pkt)|отримання списку значень полів\n",
    "pkt.summary()|однорядкове резюме\n",
    "pkt.show()|розгорнутий вигляд пакета\n",
    "pkt.show2()|те саме на зібраному пакеті (наприклад, ще обчислюється контрольна сума)\n",
    "pkt.sprintf()|Форматування рядка зі значеннями полів\n",
    "pkt.decode_payload_as()|змінює спосіб декодування корисного навантаження\n",
    "pkt.psdump()| малює діаграму PostScript із поясненим розбором\n",
    "pkt.pdfdump()| малює PDF із поясненим розбором \n",
    "pkt.command() | повертає команду Scapy, яка може генерувати пакет\n"
   ]
  },
  {
   "cell_type": "markdown",
   "id": "25f4d549115ff9d3",
   "metadata": {
    "collapsed": false
   },
   "source": [
    "##### Відображення полей/атрибутів протокола (ls)\n",
    "\n",
    "**ls()** - функція, що відображає поля протоколу. Без аргументів функція відображає всі протоколи, що підтримує. \n",
    "\n",
    "`verbose=True` - відображення всіх можливих значень переліку\n",
    "\n",
    "Результати виводу відображають поля мережного та інших рівнів і імена атрибутів, за якими до них можна звернутися.\n",
    "\n",
    "Приклади:"
   ]
  },
  {
   "cell_type": "code",
   "execution_count": 10,
   "id": "515ae82c138bb6f7",
   "metadata": {
    "ExecuteTime": {
     "end_time": "2023-09-18T12:15:44.356821410Z",
     "start_time": "2023-09-18T12:15:44.313133526Z"
    },
    "collapsed": false
   },
   "outputs": [
    {
     "name": "stdout",
     "output_type": "stream",
     "text": [
      "version    : BitField  (4 bits)                  = ('4')\n",
      "ihl        : BitField  (4 bits)                  = ('None')\n",
      "tos        : XByteField                          = ('0')\n",
      "len        : ShortField                          = ('None')\n",
      "id         : ShortField                          = ('1')\n",
      "flags      : FlagsField                          = ('<Flag 0 ()>')\n",
      "               MF, DF, evil\n",
      "frag       : BitField  (13 bits)                 = ('0')\n",
      "ttl        : ByteField                           = ('64')\n",
      "proto      : ByteEnumField                       = ('0')\n",
      "chksum     : XShortField                         = ('None')\n",
      "src        : SourceIPField                       = ('None')\n",
      "dst        : DestIPField                         = ('None')\n",
      "options    : PacketListField                     = ('[]')\n"
     ]
    }
   ],
   "source": [
    "ls(IP, verbose=True)"
   ]
  },
  {
   "cell_type": "code",
   "execution_count": null,
   "id": "fe4ba846",
   "metadata": {},
   "outputs": [
    {
     "name": "stdout",
     "output_type": "stream",
     "text": [
      "dst        : DestMACField                        = ('None')\n",
      "src        : SourceMACField                      = ('None')\n",
      "type       : XShortEnumField                     = ('36864')\n"
     ]
    }
   ],
   "source": [
    "ls(Ether)"
   ]
  },
  {
   "cell_type": "code",
   "execution_count": null,
   "id": "cac7d466",
   "metadata": {},
   "outputs": [
    {
     "name": "stdout",
     "output_type": "stream",
     "text": [
      "sport      : ShortEnumField                      = ('20')\n",
      "dport      : ShortEnumField                      = ('80')\n",
      "seq        : IntField                            = ('0')\n",
      "ack        : IntField                            = ('0')\n",
      "dataofs    : BitField  (4 bits)                  = ('None')\n",
      "reserved   : BitField  (3 bits)                  = ('0')\n",
      "flags      : FlagsField                          = ('<Flag 2 (S)>')\n",
      "window     : ShortField                          = ('8192')\n",
      "chksum     : XShortField                         = ('None')\n",
      "urgptr     : ShortField                          = ('0')\n",
      "options    : TCPOptionsField                     = (\"b''\")\n"
     ]
    }
   ],
   "source": [
    "ls(TCP)"
   ]
  },
  {
   "cell_type": "code",
   "execution_count": null,
   "id": "d5c39722",
   "metadata": {},
   "outputs": [
    {
     "name": "stdout",
     "output_type": "stream",
     "text": [
      "sport      : ShortEnumField                      = ('53')\n",
      "dport      : ShortEnumField                      = ('53')\n",
      "len        : ShortField                          = ('None')\n",
      "chksum     : XShortField                         = ('None')\n"
     ]
    }
   ],
   "source": [
    "ls(UDP)"
   ]
  },
  {
   "cell_type": "markdown",
   "id": "0151a7c9",
   "metadata": {},
   "source": [
    "##### Стисле резюме (summary)\n",
    "\n",
    "**summary()** - функція відображення стислої інформації про об'єкт"
   ]
  },
  {
   "cell_type": "code",
   "execution_count": 5,
   "id": "4f2c6230",
   "metadata": {
    "ExecuteTime": {
     "end_time": "2023-09-18T14:50:09.178514699Z",
     "start_time": "2023-09-18T14:50:08.967405915Z"
    }
   },
   "outputs": [
    {
     "data": {
      "text/plain": [
       "'Ether / IP / TCP 192.168.31.195:ftp_data > 8.8.8.8:http S'"
      ]
     },
     "execution_count": 5,
     "metadata": {},
     "output_type": "execute_result"
    }
   ],
   "source": [
    "p = Ether()/IP(dst=\"8.8.8.8\")/TCP()\n",
    "p.summary()\n"
   ]
  },
  {
   "cell_type": "markdown",
   "id": "ac4ffeaf",
   "metadata": {},
   "source": [
    "##### Доступ до протоколів і властивостей пакету\n",
    "\n",
    "Стек протоколів сформованого кадру/пакету зберігається у вигляді словника з ключами - класами протоколів"
   ]
  },
  {
   "cell_type": "code",
   "execution_count": 19,
   "id": "c56302f7",
   "metadata": {},
   "outputs": [
    {
     "name": "stdout",
     "output_type": "stream",
     "text": [
      "f8:ac:65:88:a7:2a\n",
      "f8:ac:65:88:a7:2a\n",
      "8.8.8.8\n"
     ]
    }
   ],
   "source": [
    "print(p.src)        # Ether\n",
    "print(p[Ether].src) # Ether\n",
    "print(p[IP].dst)    # IP\n"
   ]
  },
  {
   "cell_type": "code",
   "execution_count": null,
   "id": "ba41651ea6242204",
   "metadata": {
    "ExecuteTime": {
     "end_time": "2023-09-18T13:47:37.144721221Z",
     "start_time": "2023-09-18T13:47:37.096525721Z"
    },
    "collapsed": false
   },
   "outputs": [
    {
     "name": "stdout",
     "output_type": "stream",
     "text": [
      "dst        : DestMACField                        = '9c:9d:7e:49:4a:8e' ('None')\n",
      "src        : SourceMACField                      = 'f8:ac:65:88:a7:2a' ('None')\n",
      "type       : XShortEnumField                     = 2048            ('36864')\n",
      "--\n",
      "version    : BitField  (4 bits)                  = 4               ('4')\n",
      "ihl        : BitField  (4 bits)                  = None            ('None')\n",
      "tos        : XByteField                          = 0               ('0')\n",
      "len        : ShortField                          = None            ('None')\n",
      "id         : ShortField                          = 1               ('1')\n",
      "flags      : FlagsField                          = <Flag 0 ()>     ('<Flag 0 ()>')\n",
      "frag       : BitField  (13 bits)                 = 0               ('0')\n",
      "ttl        : ByteField                           = 64              ('64')\n",
      "proto      : ByteEnumField                       = 6               ('0')\n",
      "chksum     : XShortField                         = None            ('None')\n",
      "src        : SourceIPField                       = '192.168.31.195' ('None')\n",
      "dst        : DestIPField                         = Net(\"www.secdev.org/32\") ('None')\n",
      "options    : PacketListField                     = []              ('[]')\n",
      "--\n",
      "sport      : ShortEnumField                      = 20              ('20')\n",
      "dport      : ShortEnumField                      = 80              ('80')\n",
      "seq        : IntField                            = 0               ('0')\n",
      "ack        : IntField                            = 0               ('0')\n",
      "dataofs    : BitField  (4 bits)                  = None            ('None')\n",
      "reserved   : BitField  (3 bits)                  = 0               ('0')\n",
      "flags      : FlagsField                          = <Flag 2 (S)>    ('<Flag 2 (S)>')\n",
      "window     : ShortField                          = 8192            ('8192')\n",
      "chksum     : XShortField                         = None            ('None')\n",
      "urgptr     : ShortField                          = 0               ('0')\n",
      "options    : TCPOptionsField                     = []              (\"b''\")\n",
      "version    : BitField  (4 bits)                  = 4               ('4')\n",
      "ihl        : BitField  (4 bits)                  = None            ('None')\n",
      "tos        : XByteField                          = 0               ('0')\n",
      "len        : ShortField                          = None            ('None')\n",
      "id         : ShortField                          = 1               ('1')\n",
      "flags      : FlagsField                          = <Flag 0 ()>     ('<Flag 0 ()>')\n",
      "frag       : BitField  (13 bits)                 = 0               ('0')\n",
      "ttl        : ByteField                           = 64              ('64')\n",
      "proto      : ByteEnumField                       = 6               ('0')\n",
      "chksum     : XShortField                         = None            ('None')\n",
      "src        : SourceIPField                       = '192.168.31.195' ('None')\n",
      "dst        : DestIPField                         = Net(\"www.secdev.org/32\") ('None')\n",
      "options    : PacketListField                     = []              ('[]')\n",
      "--\n",
      "sport      : ShortEnumField                      = 20              ('20')\n",
      "dport      : ShortEnumField                      = 80              ('80')\n",
      "seq        : IntField                            = 0               ('0')\n",
      "ack        : IntField                            = 0               ('0')\n",
      "dataofs    : BitField  (4 bits)                  = None            ('None')\n",
      "reserved   : BitField  (3 bits)                  = 0               ('0')\n",
      "flags      : FlagsField                          = <Flag 2 (S)>    ('<Flag 2 (S)>')\n",
      "window     : ShortField                          = 8192            ('8192')\n",
      "chksum     : XShortField                         = None            ('None')\n",
      "urgptr     : ShortField                          = 0               ('0')\n",
      "options    : TCPOptionsField                     = []              (\"b''\")\n",
      "sport      : ShortEnumField                      = 20              ('20')\n",
      "dport      : ShortEnumField                      = 80              ('80')\n",
      "seq        : IntField                            = 0               ('0')\n",
      "ack        : IntField                            = 0               ('0')\n",
      "dataofs    : BitField  (4 bits)                  = None            ('None')\n",
      "reserved   : BitField  (3 bits)                  = 0               ('0')\n",
      "flags      : FlagsField                          = <Flag 2 (S)>    ('<Flag 2 (S)>')\n",
      "window     : ShortField                          = 8192            ('8192')\n",
      "chksum     : XShortField                         = None            ('None')\n",
      "urgptr     : ShortField                          = 0               ('0')\n",
      "options    : TCPOptionsField                     = []              (\"b''\")\n"
     ]
    }
   ],
   "source": [
    "ls(p[Ether])\n",
    "ls(p[IP])\n",
    "ls(p[TCP])"
   ]
  },
  {
   "cell_type": "markdown",
   "id": "657f4879",
   "metadata": {},
   "source": [
    "##### Форматований вивід інформації\n",
    "\n",
    "**sprintf()** - Форматований вивід інформації"
   ]
  },
  {
   "cell_type": "code",
   "execution_count": null,
   "id": "b5b0463b",
   "metadata": {},
   "outputs": [
    {
     "name": "stdout",
     "output_type": "stream",
     "text": [
      "f8:ac:65:88:a7:2a > 9c:9d:7e:49:4a:8e\n",
      "192.168.31.195 > 8.8.8.8\n"
     ]
    }
   ],
   "source": [
    "print(p.sprintf(\"%Ether.src% > %Ether.dst%\\n%IP.src% > %IP.dst%\"))"
   ]
  },
  {
   "cell_type": "code",
   "execution_count": null,
   "id": "3005cdb92cb9439",
   "metadata": {
    "ExecuteTime": {
     "end_time": "2023-09-18T13:45:05.230539277Z",
     "start_time": "2023-09-18T13:45:05.217337589Z"
    },
    "collapsed": false
   },
   "outputs": [
    {
     "name": "stdout",
     "output_type": "stream",
     "text": [
      "9c:9d:7e:49:4a:8e\n",
      "192.168.31.195\n",
      "f8:ac:65:88:a7:2a > 9c:9d:7e:49:4a:8e\n",
      "192.168.31.195 > Net(\"www.secdev.org/32\")\n"
     ]
    }
   ],
   "source": [
    "print(p.dst)  # first layer that has an src field, here Ether\n",
    "print(p[IP].src)  # explicitly access the src field of the IP layer\n",
    "\n",
    "# sprintf() is a useful method to display fields\n",
    "print(p.sprintf(\"%Ether.src% > %Ether.dst%\\n%IP.src% > %IP.dst%\"))"
   ]
  },
  {
   "cell_type": "markdown",
   "id": "9d555fd0",
   "metadata": {},
   "source": [
    "### 2.3 Набори пакетів"
   ]
  },
  {
   "cell_type": "markdown",
   "id": "fcaf9d0d",
   "metadata": {},
   "source": [
    "##### Дамп і РСАР-файли\n",
    "\n",
    "Зчитування pcap файлів, сформованих программами по захопленню мережного трафіку (Wireshark)"
   ]
  },
  {
   "cell_type": "code",
   "execution_count": 13,
   "id": "7b056a73",
   "metadata": {},
   "outputs": [
    {
     "data": {
      "text/plain": [
       "<wrshrk_test.pcap: TCP:93 UDP:1302 ICMP:0 Other:5>"
      ]
     },
     "execution_count": 13,
     "metadata": {},
     "output_type": "execute_result"
    }
   ],
   "source": [
    "a=rdpcap(\"/home/oleg/wrshrk_test.pcap\")\n",
    "a"
   ]
  },
  {
   "cell_type": "markdown",
   "id": "23d1dcc2",
   "metadata": {},
   "source": [
    "##### Генерування набору пакетів\n",
    "\n",
    "Генерування ІР-пакетів по масі підмережі"
   ]
  },
  {
   "cell_type": "code",
   "execution_count": 23,
   "id": "45fe7153",
   "metadata": {},
   "outputs": [
    {
     "data": {
      "text/plain": [
       "<IP  dst=Net(\"www.slashdot.org/30\") |>"
      ]
     },
     "execution_count": 23,
     "metadata": {},
     "output_type": "execute_result"
    }
   ],
   "source": [
    "a=IP(dst=\"www.slashdot.org/30\")\n",
    "a"
   ]
  },
  {
   "cell_type": "code",
   "execution_count": 24,
   "id": "6933d07c",
   "metadata": {},
   "outputs": [
    {
     "data": {
      "text/plain": [
       "[<IP  dst=172.64.151.192 |>,\n",
       " <IP  dst=172.64.151.193 |>,\n",
       " <IP  dst=172.64.151.194 |>,\n",
       " <IP  dst=172.64.151.195 |>]"
      ]
     },
     "execution_count": 24,
     "metadata": {},
     "output_type": "execute_result"
    }
   ],
   "source": [
    "[p for p in a]"
   ]
  },
  {
   "cell_type": "markdown",
   "id": "f41ab33c",
   "metadata": {},
   "source": [
    "В Scapy існує можливість створювати послідовність пакетів з послідовною зміною заданого поля `(m, n)`\n",
    "Наприклад, зміна значення поля TTL від 1 до 5 імітує traceroute."
   ]
  },
  {
   "cell_type": "code",
   "execution_count": null,
   "id": "3b45dded",
   "metadata": {},
   "outputs": [
    {
     "data": {
      "text/plain": [
       "[<IP  frag=0 ttl=1 proto=icmp |<ICMP  |>>,\n",
       " <IP  frag=0 ttl=2 proto=icmp |<ICMP  |>>,\n",
       " <IP  frag=0 ttl=3 proto=icmp |<ICMP  |>>,\n",
       " <IP  frag=0 ttl=4 proto=icmp |<ICMP  |>>,\n",
       " <IP  frag=0 ttl=5 proto=icmp |<ICMP  |>>]"
      ]
     },
     "execution_count": 23,
     "metadata": {},
     "output_type": "execute_result"
    }
   ],
   "source": [
    "[p for p in IP(ttl=(1,5))/ICMP()]"
   ]
  },
  {
   "cell_type": "code",
   "execution_count": 25,
   "id": "bd1b44a0",
   "metadata": {},
   "outputs": [
    {
     "data": {
      "text/plain": [
       "<IP  ttl=[1, 2, (5, 9)] |>"
      ]
     },
     "execution_count": 25,
     "metadata": {},
     "output_type": "execute_result"
    }
   ],
   "source": [
    "b=IP(ttl=[1,2,(5,9)])\n",
    "[p for p in b]"
   ]
  },
  {
   "cell_type": "markdown",
   "id": "d70c31d8",
   "metadata": {},
   "source": [
    "Послідовне генерування пакетів по 4м ір-адресам і двом портам послідовно"
   ]
  },
  {
   "cell_type": "code",
   "execution_count": 27,
   "id": "f119c90e",
   "metadata": {},
   "outputs": [
    {
     "data": {
      "text/plain": [
       "[<IP  frag=0 proto=tcp dst=172.64.151.192 |<TCP  dport=http |>>,\n",
       " <IP  frag=0 proto=tcp dst=172.64.151.192 |<TCP  dport=https |>>,\n",
       " <IP  frag=0 proto=tcp dst=172.64.151.193 |<TCP  dport=http |>>,\n",
       " <IP  frag=0 proto=tcp dst=172.64.151.193 |<TCP  dport=https |>>,\n",
       " <IP  frag=0 proto=tcp dst=172.64.151.194 |<TCP  dport=http |>>,\n",
       " <IP  frag=0 proto=tcp dst=172.64.151.194 |<TCP  dport=https |>>,\n",
       " <IP  frag=0 proto=tcp dst=172.64.151.195 |<TCP  dport=http |>>,\n",
       " <IP  frag=0 proto=tcp dst=172.64.151.195 |<TCP  dport=https |>>]"
      ]
     },
     "execution_count": 27,
     "metadata": {},
     "output_type": "execute_result"
    }
   ],
   "source": [
    "c=TCP(dport=[80,443])\n",
    "[p for p in a/c]"
   ]
  },
  {
   "cell_type": "markdown",
   "id": "e1811e6b",
   "metadata": {},
   "source": [
    "##### Функції відображення для набору пакетів\n",
    "\n",
    "Команда|Ефект\n",
    "-|-\n",
    "summary()|відображає список підсумків кожного пакета\n",
    "nsummary()|те саме, що й попередній, із номером пакета\n",
    "conversations()| відображає графік діалогів\n",
    "show()|відображає бажане представлення (зазвичай nsummary())\n",
    "filter()|повертає список пакетів, відфільтрований лямбда-функцією\n",
    "hexdump()|повертає 16-ковий дамп усіх пакетів\n",
    "hexraw()|повертає шістнадцятковий дамп рівня Raw усіх пакетів\n",
    "padding()|повертає шістнадцятковий дамп пакетів із заповненням\n",
    "nzpadding()|повертає шістнадцятковий дамп пакетів із ненульовим доповненням\n",
    "plot()|будує графік лямбда-функції, застосованої до списку пакетів\n",
    "make_table()|відображає таблицю відповідно до лямбда-функції"
   ]
  },
  {
   "cell_type": "markdown",
   "id": "8cb6c404",
   "metadata": {},
   "source": [
    "### 2.4 Відправка пакетів"
   ]
  },
  {
   "cell_type": "markdown",
   "id": "168f719e",
   "metadata": {},
   "source": [
    "##### Функції send() i sendp()\n",
    "\n",
    "Функції відправки пакетів:\n",
    "- **send()** надсилатиме пакети на рівні 3 - оброблятиме маршрутизацію та генерує каадр рівня 2 за нас.\n",
    "- **sendp()** працює на рівні 2 - необхідно вибрати правильний інтерфейс і правильний протокол канального рівня\n",
    "\n",
    "send() і sendp() також повернуть список надісланих пакетів, якщо передано як параметр `return_packets=True`"
   ]
  },
  {
   "cell_type": "code",
   "execution_count": 28,
   "id": "b476a5c8",
   "metadata": {},
   "outputs": [
    {
     "name": "stdout",
     "output_type": "stream",
     "text": [
      "\n",
      "Sent 1 packets..\n"
     ]
    }
   ],
   "source": [
    "send(IP(dst=\"1.2.3.4\")/ICMP())"
   ]
  },
  {
   "cell_type": "code",
   "execution_count": 30,
   "id": "4a89285a",
   "metadata": {},
   "outputs": [
    {
     "name": "stdout",
     "output_type": "stream",
     "text": [
      "...\n",
      "Sent 4 packets.\n",
      "."
     ]
    }
   ],
   "source": [
    "sendp(Ether()/IP(dst=\"1.2.3.4\",ttl=(1,4)), iface=\"wlo1\")\n"
   ]
  },
  {
   "cell_type": "code",
   "execution_count": 31,
   "id": "2b24d46c",
   "metadata": {},
   "outputs": [
    {
     "name": "stdout",
     "output_type": "stream",
     "text": [
      "................................................................................................................................................................\n",
      "Sent 160 packets.\n"
     ]
    }
   ],
   "source": [
    "sendp(\"I'm travelling on Ethernet\", iface=\"wlo1\", loop=1, inter=0.2)"
   ]
  },
  {
   "cell_type": "code",
   "execution_count": 32,
   "id": "0a143a02",
   "metadata": {},
   "outputs": [
    {
     "name": "stdout",
     "output_type": "stream",
     "text": [
      "\n",
      "Sent 1 packets.\n",
      "."
     ]
    },
    {
     "data": {
      "text/plain": [
       "<PacketList: TCP:0 UDP:0 ICMP:0 Other:1>"
      ]
     },
     "execution_count": 32,
     "metadata": {},
     "output_type": "execute_result"
    }
   ],
   "source": [
    "send(IP(dst='127.0.0.1'), return_packets=True)"
   ]
  },
  {
   "cell_type": "markdown",
   "id": "7a4c4589",
   "metadata": {},
   "source": [
    "### 2.5 Відправка і отримання пакетів"
   ]
  },
  {
   "cell_type": "markdown",
   "id": "e0f8d922",
   "metadata": {},
   "source": [
    "##### Функції сімейства sr*\n",
    "\n",
    "- **Функція sr()** призначена для надсилання пакетів і отримання\n",
    "відповідей. Функція повертає пари пакетів з відповідями, а також пакети без відповіді.\n",
    "- **Функція sr1()** - варіант, який повертає лише один пакет, який відповів на надісланий пакет (або набір пакетів). Пакети мають бути пакетами рівня 3 (IP, ARP тощо).\n",
    "- **Функція srp()** робить те саме для пакетів рівня 2 (Ethernet, 802.3). Якщо відповіді немає, після закінчення часу\n",
    "очікування натомість буде призначено значення None.\n",
    "- **Функція srp1()** - аналогічно повертає один пакет відповіді для пакету рівня 2."
   ]
  },
  {
   "cell_type": "markdown",
   "id": "c3a89bff",
   "metadata": {},
   "source": [
    "##### Приклад запитів DNS\n",
    "\n",
    "Приклад використання протокола DNS для отримання IPv4-адреси www.example.com."
   ]
  },
  {
   "cell_type": "code",
   "execution_count": 33,
   "id": "014c0010",
   "metadata": {},
   "outputs": [
    {
     "name": "stdout",
     "output_type": "stream",
     "text": [
      "Begin emission:\n",
      "Finished sending 1 packets.\n",
      ".*\n",
      "Received 2 packets, got 1 answers, remaining 0 packets\n"
     ]
    }
   ],
   "source": [
    "p = sr1(IP(dst=\"www.slashdot.org\")/ICMP()/\"XXXXXXXXXXX\")"
   ]
  },
  {
   "cell_type": "markdown",
   "id": "8589934a",
   "metadata": {},
   "source": [
    "DNS-запит (rd = recursion desired):"
   ]
  },
  {
   "cell_type": "code",
   "execution_count": 34,
   "id": "fb566dc0",
   "metadata": {},
   "outputs": [
    {
     "name": "stdout",
     "output_type": "stream",
     "text": [
      "Begin emission:\n",
      "Finished sending 1 packets.\n",
      ".*\n",
      "Received 2 packets, got 1 answers, remaining 0 packets\n"
     ]
    },
    {
     "data": {
      "text/plain": [
       "<IP  version=4 ihl=5 tos=0x0 len=143 id=39351 flags=DF frag=0 ttl=64 proto=udp chksum=0xe091 src=192.168.31.1 dst=192.168.31.195 |<UDP  sport=domain dport=domain len=123 chksum=0xd0c6 |<DNS  id=0 qr=1 opcode=QUERY aa=0 tc=0 rd=1 ra=1 z=0 ad=0 cd=0 rcode=ok qdcount=1 ancount=3 nscount=0 arcount=0 qd=<DNSQR  qname='www.slashdot.org.' qtype=A qclass=IN |> an=<DNSRR  rrname='www.slashdot.org.' type=CNAME rclass=IN ttl=29 rdlen=37 rdata='www.slashdot.org.cdn.cloudflare.net.' |<DNSRR  rrname='www.slashdot.org.cdn.cloudflare.net.' type=A rclass=IN ttl=125 rdlen=4 rdata=172.64.151.192 |<DNSRR  rrname='www.slashdot.org.cdn.cloudflare.net.' type=A rclass=IN ttl=125 rdlen=4 rdata=104.18.36.64 |>>> ns=None ar=None |>>>"
      ]
     },
     "execution_count": 34,
     "metadata": {},
     "output_type": "execute_result"
    }
   ],
   "source": [
    "sr1(IP(dst=\"192.168.31.1\")/UDP()/DNS(rd=1,qd=DNSQR(qname=\"www.slashdot.org\")))"
   ]
  },
  {
   "cell_type": "code",
   "execution_count": 5,
   "id": "17276eb9",
   "metadata": {},
   "outputs": [
    {
     "name": "stdout",
     "output_type": "stream",
     "text": [
      "Begin emission:\n",
      "Finished sending 1 packets.\n",
      "*\n",
      "Received 1 packets, got 1 answers, remaining 0 packets\n"
     ]
    },
    {
     "data": {
      "text/plain": [
       "<DNSRR  rrname='www.example.com.' type=A rclass=IN ttl=1111 rdlen=4 rdata=93.184.216.34 |>"
      ]
     },
     "execution_count": 5,
     "metadata": {},
     "output_type": "execute_result"
    }
   ],
   "source": [
    "p = sr1(IP(dst=\"8.8.8.8\")/UDP()/DNS(qd=DNSQR()))\n",
    "p[DNS].an"
   ]
  },
  {
   "cell_type": "markdown",
   "id": "aaf93d5f",
   "metadata": {},
   "source": [
    "##### Обробка пакетів з відповідю та без\n",
    "\n",
    "Особливістю Scapy є те, що сімейство функцій sr* повертає два списки:\n",
    "- список пар (пакет надіслано, відповідь)\n",
    "- список пакетів без відповіді.\n",
    "\n",
    "Ці два елементи є списками, але вони обгорнуті об’єктом, щоб краще представити їх і надати їм деякі методи, які виконують найбільш часто потрібні дії:"
   ]
  },
  {
   "cell_type": "code",
   "execution_count": 41,
   "id": "544dbc33",
   "metadata": {},
   "outputs": [
    {
     "name": "stdout",
     "output_type": "stream",
     "text": [
      "Begin emission:\n",
      "Finished sending 2 packets.\n",
      "**\n",
      "Received 2 packets, got 2 answers, remaining 0 packets\n"
     ]
    },
    {
     "data": {
      "text/plain": [
       "(<Results: TCP:2 UDP:0 ICMP:0 Other:0>,\n",
       " <Unanswered: TCP:0 UDP:0 ICMP:0 Other:0>)"
      ]
     },
     "execution_count": 41,
     "metadata": {},
     "output_type": "execute_result"
    }
   ],
   "source": [
    "sr(IP(dst=\"192.168.31.1\")/TCP(dport=[21,22]))"
   ]
  },
  {
   "cell_type": "code",
   "execution_count": 42,
   "id": "a03af41e",
   "metadata": {},
   "outputs": [
    {
     "name": "stdout",
     "output_type": "stream",
     "text": [
      "IP / TCP 192.168.31.195:ftp_data > 192.168.31.1:ssh S ==> IP / TCP 192.168.31.1:ssh > 192.168.31.195:ftp_data RA\n",
      "IP / TCP 192.168.31.195:ftp_data > 192.168.31.1:ftp S ==> IP / TCP 192.168.31.1:ftp > 192.168.31.195:ftp_data RA\n"
     ]
    }
   ],
   "source": [
    "ans, unans = _\n",
    "ans.summary()"
   ]
  },
  {
   "cell_type": "markdown",
   "id": "8d7d7dc8",
   "metadata": {},
   "source": [
    "##### Запити з додатковими параметрами\n",
    "\n",
    "Параметри:\n",
    "- inter - проміжок часу (у секундах) між двома пакетами.\n",
    "- retry - кількість повторних спроб, якщо не було відповіді (-2 - двічі)\n",
    "- timeout визначає час очікування після надсилання останнього пакета."
   ]
  },
  {
   "cell_type": "code",
   "execution_count": 43,
   "id": "8e4451e5",
   "metadata": {},
   "outputs": [
    {
     "name": "stdout",
     "output_type": "stream",
     "text": [
      "Begin emission:\n",
      "Finished sending 12 packets.\n",
      ".....................................Begin emission:\n",
      "Finished sending 12 packets.\n",
      "***....................***.Begin emission:\n",
      "Finished sending 6 packets.\n",
      ".................Begin emission:\n",
      "Finished sending 6 packets.\n",
      ".....\n",
      "Received 86 packets, got 6 answers, remaining 6 packets\n"
     ]
    },
    {
     "data": {
      "text/plain": [
       "(<Results: TCP:0 UDP:0 ICMP:6 Other:0>,\n",
       " <Unanswered: TCP:6 UDP:0 ICMP:0 Other:0>)"
      ]
     },
     "execution_count": 43,
     "metadata": {},
     "output_type": "execute_result"
    }
   ],
   "source": [
    "sr(IP(dst=\"172.20.29.5/30\")/TCP(dport=[21,22,23]),inter=0.5,retry=-2,timeout=1)"
   ]
  },
  {
   "cell_type": "markdown",
   "id": "1d662227",
   "metadata": {},
   "source": [
    "##### Обробка окремих пакетів з набору і запис у дамп-файл"
   ]
  },
  {
   "cell_type": "code",
   "execution_count": 14,
   "id": "49083044",
   "metadata": {},
   "outputs": [
    {
     "name": "stdout",
     "output_type": "stream",
     "text": [
      "Begin emission:\n",
      "Finished sending 6 packets.\n",
      "******\n",
      "Received 6 packets, got 6 answers, remaining 0 packets\n"
     ]
    },
    {
     "data": {
      "text/plain": [
       "(<Results: TCP:0 UDP:2 ICMP:4 Other:0>,\n",
       " <Unanswered: TCP:0 UDP:0 ICMP:0 Other:0>)"
      ]
     },
     "execution_count": 14,
     "metadata": {},
     "output_type": "execute_result"
    }
   ],
   "source": [
    "r, u = srp(Ether()/IP(dst=\"8.8.8.8\", ttl=(5,10))/UDP()/DNS(rd=1, qd=DNSQR(qname=\"www.example.com\")))\n",
    "r, u"
   ]
  },
  {
   "cell_type": "code",
   "execution_count": 10,
   "id": "d9df2033",
   "metadata": {},
   "outputs": [
    {
     "name": "stdout",
     "output_type": "stream",
     "text": [
      "Ether / IP / UDP / DNS Qry \"b'www.example.com.'\" \n",
      "Ether / IP / ICMP 108.170.248.138 > 192.168.31.195 time-exceeded ttl-zero-during-transit / IPerror / UDPerror\n"
     ]
    },
    {
     "data": {
      "text/plain": [
       "<ICMP  type=time-exceeded code=ttl-zero-during-transit chksum=0x3012 reserved=0 length=0 unused=0 |<IPerror  version=4 ihl=5 tos=0x80 len=61 id=1 flags= frag=0 ttl=1 proto=udp chksum=0xc8b4 src=192.168.31.195 dst=8.8.8.8 |<UDPerror  sport=domain dport=domain len=41 chksum=0xc45a |>>>"
      ]
     },
     "execution_count": 10,
     "metadata": {},
     "output_type": "execute_result"
    }
   ],
   "source": [
    "print(r[0][0].summary())  # the packet sent\n",
    "print(r[0][1].summary())  # the answer received\n",
    "\n",
    "# Access the ICMP layer. Scapy received a time-exceeded error message\n",
    "r[0][1][ICMP]"
   ]
  },
  {
   "cell_type": "code",
   "execution_count": 11,
   "id": "9528dfe7",
   "metadata": {},
   "outputs": [
    {
     "data": {
      "text/plain": [
       "<Ether  dst=9c:9d:7e:49:4a:8e src=f8:ac:65:88:a7:2a type=IPv4 |<IP  version=4 ihl=5 tos=0x0 len=61 id=1 flags= frag=0 ttl=5 proto=udp chksum=0xc534 src=192.168.31.195 dst=8.8.8.8 |<UDP  sport=domain dport=domain len=41 chksum=0xc45a |<DNS  id=0 qr=0 opcode=QUERY aa=0 tc=0 rd=1 ra=0 z=0 ad=0 cd=0 rcode=ok qdcount=1 ancount=0 nscount=0 arcount=0 qd=<DNSQR  qname='www.example.com.' qtype=A qclass=IN |> an=None ns=None ar=None |>>>>"
      ]
     },
     "execution_count": 11,
     "metadata": {},
     "output_type": "execute_result"
    }
   ],
   "source": [
    "wrpcap(\"scapy.pcap\", r)\n",
    "\n",
    "pcap_p = rdpcap(\"scapy.pcap\")\n",
    "pcap_p[0]"
   ]
  },
  {
   "cell_type": "markdown",
   "id": "b251b543",
   "metadata": {},
   "source": [
    "### 2.6 Запити ping i traceroute"
   ]
  },
  {
   "cell_type": "markdown",
   "id": "66dc29fc",
   "metadata": {},
   "source": [
    "##### Ping\n",
    "\n",
    "**Ping** (Packet Inter-Network Groper) - програма, призначена для перевірки з'єднань в мережах на основі TCP/IP. Вона відправляє запити протоколу ICMP зазначеному вузлу мережі й фіксує відповіді (Echo-Reply)."
   ]
  },
  {
   "cell_type": "code",
   "execution_count": 3,
   "id": "4aba2369",
   "metadata": {},
   "outputs": [
    {
     "name": "stdout",
     "output_type": "stream",
     "text": [
      "PING 8.8.8.8 (8.8.8.8) 56(84) bytes of data.\n",
      "64 bytes from 8.8.8.8: icmp_seq=1 ttl=119 time=25.5 ms\n"
     ]
    },
    {
     "name": "stdout",
     "output_type": "stream",
     "text": [
      "64 bytes from 8.8.8.8: icmp_seq=2 ttl=119 time=25.2 ms\n",
      "64 bytes from 8.8.8.8: icmp_seq=3 ttl=119 time=25.6 ms\n",
      "64 bytes from 8.8.8.8: icmp_seq=4 ttl=119 time=22.8 ms\n",
      "64 bytes from 8.8.8.8: icmp_seq=5 ttl=119 time=25.2 ms\n",
      "\n",
      "--- 8.8.8.8 ping statistics ---\n",
      "5 packets transmitted, 5 received, 0% packet loss, time 4007ms\n",
      "rtt min/avg/max/mdev = 22.829/24.880/25.587/1.036 ms\n",
      "PING google.com (142.250.203.142) 56(84) bytes of data.\n",
      "64 bytes from waw07s06-in-f14.1e100.net (142.250.203.142): icmp_seq=1 ttl=119 time=24.6 ms\n",
      "64 bytes from waw07s06-in-f14.1e100.net (142.250.203.142): icmp_seq=2 ttl=119 time=25.5 ms\n",
      "64 bytes from waw07s06-in-f14.1e100.net (142.250.203.142): icmp_seq=3 ttl=119 time=25.7 ms\n",
      "64 bytes from waw07s06-in-f14.1e100.net (142.250.203.142): icmp_seq=4 ttl=119 time=27.5 ms\n",
      "\n",
      "--- google.com ping statistics ---\n",
      "4 packets transmitted, 4 received, 0% packet loss, time 3005ms\n",
      "rtt min/avg/max/mdev = 24.603/25.831/27.491/1.046 ms\n"
     ]
    }
   ],
   "source": [
    "!ping -c5 8.8.8.8\n",
    "!ping -c4 google.com "
   ]
  },
  {
   "cell_type": "markdown",
   "id": "16e801ba",
   "metadata": {},
   "source": [
    "Ping засобами Scapy"
   ]
  },
  {
   "cell_type": "code",
   "execution_count": 4,
   "id": "a2b8432e",
   "metadata": {},
   "outputs": [
    {
     "name": "stdout",
     "output_type": "stream",
     "text": [
      "8.8.8.8 is alive\n",
      "8.8.8.8 is alive\n",
      "8.8.8.8 is alive\n",
      "8.8.8.8 is alive\n",
      "8.8.8.8 is alive\n"
     ]
    }
   ],
   "source": [
    "from scapy.all import *\n",
    "\n",
    "ping = [IP(dst=\"8.8.8.8\")/ICMP() for p in range(5)]\n",
    "\n",
    "ans, unans = sr(ping, verbose=0)\n",
    "ans.summary( lambda s,r : r.sprintf(\"%IP.src% is alive\"))"
   ]
  },
  {
   "cell_type": "code",
   "execution_count": 5,
   "id": "1ee2e4ad",
   "metadata": {},
   "outputs": [
    {
     "name": "stdout",
     "output_type": "stream",
     "text": [
      "from 8.8.8.8: icmp_seq=1 ttl=119\n",
      "from 8.8.8.8: icmp_seq=2 ttl=119\n",
      "from 8.8.8.8: icmp_seq=3 ttl=119\n",
      "from 8.8.8.8: icmp_seq=4 ttl=119\n",
      "from 8.8.8.8: icmp_seq=5 ttl=119\n"
     ]
    },
    {
     "data": {
      "text/plain": [
       "[None, None, None, None, None]"
      ]
     },
     "execution_count": 5,
     "metadata": {},
     "output_type": "execute_result"
    }
   ],
   "source": [
    "[print(f\"from {p.answer[IP].src}: icmp_seq={i+1} ttl={p.answer[IP].ttl}\") for i, p in enumerate(ans)]\n"
   ]
  },
  {
   "cell_type": "code",
   "execution_count": 6,
   "id": "c9c32d3d",
   "metadata": {},
   "outputs": [
    {
     "name": "stdout",
     "output_type": "stream",
     "text": [
      "IP / ICMP 192.168.31.195 > 8.8.8.8 echo-request 0\n",
      "IP / ICMP 8.8.8.8 > 192.168.31.195 echo-reply 0\n",
      "version    : BitField  (4 bits)                  = 4               ('4')\n",
      "ihl        : BitField  (4 bits)                  = None            ('None')\n",
      "tos        : XByteField                          = 0               ('0')\n",
      "len        : ShortField                          = None            ('None')\n",
      "id         : ShortField                          = 1               ('1')\n",
      "flags      : FlagsField                          = <Flag 0 ()>     ('<Flag 0 ()>')\n",
      "frag       : BitField  (13 bits)                 = 0               ('0')\n",
      "ttl        : ByteField                           = 64              ('64')\n",
      "proto      : ByteEnumField                       = 1               ('0')\n",
      "chksum     : XShortField                         = None            ('None')\n",
      "src        : SourceIPField                       = '192.168.31.195' ('None')\n",
      "dst        : DestIPField                         = '8.8.8.8'       ('None')\n",
      "options    : PacketListField                     = []              ('[]')\n",
      "--\n",
      "type       : ByteEnumField                       = 8               ('8')\n",
      "code       : MultiEnumField (Depends on 8)       = 0               ('0')\n",
      "chksum     : XShortField                         = None            ('None')\n",
      "id         : XShortField (Cond)                  = 0               ('0')\n",
      "seq        : XShortField (Cond)                  = 0               ('0')\n",
      "ts_ori     : ICMPTimeStampField (Cond)           = None            ('25034811')\n",
      "ts_rx      : ICMPTimeStampField (Cond)           = None            ('25034811')\n",
      "ts_tx      : ICMPTimeStampField (Cond)           = None            ('25034811')\n",
      "gw         : IPField (Cond)                      = None            (\"'0.0.0.0'\")\n",
      "ptr        : ByteField (Cond)                    = None            ('0')\n",
      "reserved   : ByteField (Cond)                    = None            ('0')\n",
      "length     : ByteField (Cond)                    = None            ('0')\n",
      "addr_mask  : IPField (Cond)                      = None            (\"'0.0.0.0'\")\n",
      "nexthopmtu : ShortField (Cond)                   = None            ('0')\n",
      "unused     : MultipleTypeField (ShortField, IntField, StrFixedLenField) = b''             (\"b''\")\n"
     ]
    }
   ],
   "source": [
    "print(ans[0][0])\n",
    "print(ans[0][1])\n",
    "ls(ans[0][0])"
   ]
  },
  {
   "cell_type": "markdown",
   "id": "3eb5f969",
   "metadata": {},
   "source": [
    "##### Traceroute\n",
    "\n",
    "Traceroute (tracert в ОС Windows) — службова програма, призначена для визначення маршрутів слідування даних у мережах TCP/IP."
   ]
  },
  {
   "cell_type": "code",
   "execution_count": 7,
   "id": "4ab22397",
   "metadata": {},
   "outputs": [
    {
     "name": "stdout",
     "output_type": "stream",
     "text": [
      "traceroute to www.google.co.uk (142.250.203.195), 30 hops max, 60 byte packets\n",
      " 1  XiaoQiang (192.168.31.1)  2.210 ms  5.684 ms  5.672 ms\n",
      " 2  * * *\n",
      " 3  10.12.202.9 (10.12.202.9)  9.633 ms  9.622 ms  9.611 ms\n",
      " 4  226.3.86.109.triolan.net (109.86.3.226)  11.112 ms  11.102 ms  11.093 ms\n",
      " 5  108.170.248.155 (108.170.248.155)  11.091 ms  11.082 ms  11.072 ms\n",
      " 6  142.251.242.35 (142.251.242.35)  25.468 ms 72.14.239.111 (72.14.239.111)  10.551 ms 142.251.242.35 (142.251.242.35)  26.072 ms\n",
      " 7  142.250.46.55 (142.250.46.55)  26.044 ms 142.251.242.37 (142.251.242.37)  24.458 ms 142.251.242.41 (142.251.242.41)  40.906 ms\n",
      " 8  209.85.250.175 (209.85.250.175)  25.259 ms  24.895 ms 108.170.250.209 (108.170.250.209)  25.669 ms\n",
      " 9  209.85.250.175 (209.85.250.175)  26.498 ms 209.85.252.109 (209.85.252.109)  26.487 ms  26.478 ms\n",
      "10  waw02s22-in-f3.1e100.net (142.250.203.195)  25.629 ms  25.257 ms  24.976 ms\n"
     ]
    }
   ],
   "source": [
    "!traceroute www.google.co.uk"
   ]
  },
  {
   "cell_type": "code",
   "execution_count": 8,
   "id": "f17cd268",
   "metadata": {},
   "outputs": [
    {
     "name": "stdout",
     "output_type": "stream",
     "text": [
      "Begin emission:\n",
      "Finished sending 25 packets.\n",
      ".**********................................................\n",
      "Received 59 packets, got 10 answers, remaining 15 packets\n",
      "192.168.31.1\n",
      "10.12.202.9\n",
      "109.86.3.226\n",
      "108.170.248.138\n",
      "72.14.239.111\n",
      "142.251.242.37\n",
      "209.85.250.175\n",
      "108.170.250.193\n",
      "142.250.203.195\n",
      "142.250.203.195\n"
     ]
    }
   ],
   "source": [
    "ans, unans = sr(IP(dst=\"www.google.co.uk\", ttl=(1,25),id=RandShort())/TCP(flags=0x2))\n",
    "ans.summary(lambda s,r: r.sprintf(\"%IP.src%\"))"
   ]
  },
  {
   "cell_type": "code",
   "execution_count": 9,
   "id": "aaa1bc34",
   "metadata": {},
   "outputs": [
    {
     "name": "stdout",
     "output_type": "stream",
     "text": [
      "Begin emission:\n",
      "Finished sending 25 packets.\n",
      "************************\n",
      "Received 24 packets, got 24 answers, remaining 1 packets\n",
      "   142.250.203.195:tcp80 \n",
      "1  192.168.31.1    11    \n",
      "3  10.12.202.9     11    \n",
      "4  109.86.3.226    11    \n",
      "5  108.170.248.138 11    \n",
      "6  142.251.242.35  11    \n",
      "7  142.251.242.41  11    \n",
      "8  209.85.250.175  11    \n",
      "9  142.250.203.195 SA    \n",
      "10 142.250.203.195 SA    \n",
      "11 142.250.203.195 SA    \n",
      "12 142.250.203.195 SA    \n",
      "13 142.250.203.195 SA    \n",
      "14 142.250.203.195 SA    \n",
      "15 142.250.203.195 SA    \n",
      "16 142.250.203.195 SA    \n",
      "17 142.250.203.195 SA    \n",
      "18 142.250.203.195 SA    \n",
      "19 142.250.203.195 SA    \n",
      "20 142.250.203.195 SA    \n",
      "21 142.250.203.195 SA    \n",
      "22 142.250.203.195 SA    \n",
      "23 142.250.203.195 SA    \n",
      "24 142.250.203.195 SA    \n",
      "25 142.250.203.195 SA    \n"
     ]
    }
   ],
   "source": [
    "r2, unans = traceroute([\"www.google.co.uk\"],maxttl=25)"
   ]
  },
  {
   "cell_type": "code",
   "execution_count": 13,
   "id": "15ffe8b7",
   "metadata": {},
   "outputs": [
    {
     "name": "stdout",
     "output_type": "stream",
     "text": [
      "4 109.86.3.226 False\n",
      "5 72.14.239.111 False\n",
      "6 108.170.248.138 False\n",
      "7 108.170.250.193 False\n",
      "8 142.251.242.37 False\n",
      "9 209.85.250.175 False\n",
      "10 142.250.203.195 True\n",
      "11 142.250.203.195 True\n"
     ]
    }
   ],
   "source": [
    "for snd,rcv in ans:\n",
    "    print( snd.ttl, rcv.src, isinstance(rcv.payload, TCP))"
   ]
  },
  {
   "cell_type": "code",
   "execution_count": 10,
   "id": "bbb5863c",
   "metadata": {},
   "outputs": [
    {
     "data": {
      "text/plain": [
       "(<Traceroute: TCP:44 UDP:0 ICMP:14 Other:0>,\n",
       " <Unanswered: TCP:2 UDP:0 ICMP:0 Other:0>)"
      ]
     },
     "execution_count": 10,
     "metadata": {},
     "output_type": "execute_result"
    }
   ],
   "source": [
    "a = traceroute([\"www.google.co.uk\", \"www.secdev.org\"], verbose=0)\n",
    "a"
   ]
  }
 ],
 "metadata": {
  "kernelspec": {
   "display_name": "Python 3 (ipykernel)",
   "language": "python",
   "name": "python3"
  },
  "language_info": {
   "codemirror_mode": {
    "name": "ipython",
    "version": 3
   },
   "file_extension": ".py",
   "mimetype": "text/x-python",
   "name": "python",
   "nbconvert_exporter": "python",
   "pygments_lexer": "ipython3",
   "version": "3.10.12"
  }
 },
 "nbformat": 4,
 "nbformat_minor": 5
}
