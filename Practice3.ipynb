{
 "cells": [
  {
   "cell_type": "markdown",
   "id": "a56484bd33e3b724",
   "metadata": {
    "collapsed": false
   },
   "source": [
    "<div align='center'>\n",
    "МІНІСТЕРСТВО ОСВІТИ І НАУКИ УКРАЇНИ\n",
    "\n",
    "Національний аерокосмічний університет ім. М.Є.Жуковського\n",
    "\"Харківський авіаційний інститут\"\n",
    "\n",
    "Факультет радіотехніки, комп’ютерних систем і інфокомунікацій\n",
    "\n",
    "Кафедра інформаційно-комунікаційних технологій ім. О. О. Зеленського\n",
    "\n",
    "\n",
    "ПРАКТИЧНА РОБОТА №3\n",
    "\n",
    "з курсу \"Захист інформації в інфокомунікаціях\"\n",
    "\n",
    "на тему \"Перевірка активності кінцевого пристрою\"\n",
    "\n",
    "<div align='right'>\n",
    "Виконав: студент ??? курсу\n",
    "\n",
    "групи № ???\n",
    "\n",
    "спеціальності 172 \"Телекомунікації та радіотехника\" / 126 \"Інформаційні системи і технології\" (залишити необхідне)\n",
    "\n",
    "Прізвище та ініціали\n",
    "\n",
    "Прийняв: (вказати посаду)\n",
    "\n",
    "Прізвище та ініціали викладача\n",
    "\n",
    "Національна шкала: __________\n",
    "\n",
    "Кількість балів: _____\n",
    "\n",
    "Оцінка: ECTS _____ \n",
    "</div>\n",
    "\n",
    "Харків - 2023\n",
    "</div>"
   ]
  },
  {
   "cell_type": "markdown",
   "id": "4ef8d3b551d4a372",
   "metadata": {
    "collapsed": false
   },
   "source": [
    "## Практична робота №3. Перевірка активності кінцевого пристрою\n",
    "\n",
    "**Мета роботи**: ознайомитися з синтаксисом мови програмування Python і бібліотеки Scapy, ознайомитися зі структурою заголовків мережних протоколів, скласти скрипт, що відправляє запити за протоколом ICMP, з метою виявлення пристроїв у мережі.\n",
    "\n",
    "### Зміст\n",
    "\n",
    "- Частина 1. Команда ping та ICMP-запити\n",
    "- Частина 2. Підготовка Scapy\n",
    "- Частина 3. Scapy і заголовки мережних протоколів\n",
    "- Частина 4. ICMP-запити засобами Scapy"
   ]
  },
  {
   "cell_type": "markdown",
   "id": "7eedbdc4",
   "metadata": {},
   "source": [
    "### Частина 1. Команда ping та ICMP-запити"
   ]
  },
  {
   "cell_type": "markdown",
   "id": "ef5fac7169a23821",
   "metadata": {
    "collapsed": false
   },
   "source": [
    "**Завдання** - перевірка зв'язку з заданим вузлом командою ping\n",
    "\n",
    "Для перевірки зв'язку переважно використовують системну команду `ping`, що надсилає ICMP-пакети на задану адресу і отримує відповідь про досяжність чи недосяжність вказаного вузла\n",
    "\n",
    "**Крок 1. Обрати адресу призначення за варіантом по списку**\n",
    "\n",
    "|Варіант|Сайт|Кількість запитів N|\n",
    "|---|---|---|\n",
    "|1|google.com|6|\n",
    "|2|yahoo.com|3|\n",
    "|3|facebook.com|4|\n",
    "|4|python.org|5|\n",
    "|5|youtube.com|6|\n",
    "|6|wikipedia.org|3|\n",
    "|7|amazon.com|4|\n",
    "|8|live.com|5|\n",
    "|9|bing.com|6|\n",
    "|10|instagram.com|3|\n",
    "|11|stackoverflow.com|4|\n",
    "|12|whatsapp.com|5|\n",
    "|13|twitter.com|6|\n",
    "|14|telegram.com|3|\n",
    "|15|viber.com|4|\n",
    "|16|ukr.net|5|\n",
    "|17|accuweather.com|6|\n",
    "|18|sinoptik.ua|3|\n",
    "|19|gismeteo.ua|4|\n",
    "|20|i.ua|5|\n",
    "|21|www.netacad.com|6|\n",
    "\n",
    "**Крок 2. Створити ping-запит** \\\n",
    "Для заданого **сайту** виконати запит командою `ping` з відправкою **N** пакетів (у Windows використовуйте параметр `-n`, у Linux - `-c`)"
   ]
  },
  {
   "cell_type": "code",
   "execution_count": 8,
   "metadata": {},
   "outputs": [
    {
     "name": "stdout",
     "output_type": "stream",
     "text": [
      "Active code page: 65001\n"
     ]
    }
   ],
   "source": [
    "!chcp 65001"
   ]
  },
  {
   "cell_type": "code",
   "execution_count": 9,
   "id": "f5c6f901",
   "metadata": {},
   "outputs": [
    {
     "name": "stdout",
     "output_type": "stream",
     "text": [
      "\n",
      "Pinging google.com [142.250.203.206] with 32 bytes of data:\n",
      "Reply from 142.250.203.206: bytes=32 time=24ms TTL=119\n",
      "Reply from 142.250.203.206: bytes=32 time=24ms TTL=119\n",
      "Reply from 142.250.203.206: bytes=32 time=24ms TTL=119\n",
      "Reply from 142.250.203.206: bytes=32 time=24ms TTL=119\n",
      "\n",
      "Ping statistics for 142.250.203.206:\n",
      "    Packets: Sent = 4, Received = 4, Lost = 0 (0% loss),\n",
      "Approximate round trip times in milli-seconds:\n",
      "    Minimum = 24ms, Maximum = 24ms, Average = 24ms\n"
     ]
    }
   ],
   "source": [
    "!ping google.com"
   ]
  },
  {
   "cell_type": "markdown",
   "id": "d4c358640c142fd8",
   "metadata": {
    "collapsed": false
   },
   "source": [
    "**Крок 3. Визначити в мережевих налаштуваннях ПК мережну адресу пристрою і мережі в цілому** \\\n",
    "Команди командного рядка(терміналу) для визначення налаштувань мережі: \n",
    "- для Windows - `ipconfig /all` (всі налаштування разом)\n",
    "- для Linux - `ip addr` для визначення мережних адрес пристрою та `ip route` для визначення шлюза за замовчуванням\n",
    "- або зайти в графічний інтерфейс налаштувань мережі"
   ]
  },
  {
   "cell_type": "code",
   "execution_count": 10,
   "id": "2056fe7d7a3bc34b",
   "metadata": {
    "ExecuteTime": {
     "end_time": "2023-10-15T15:52:28.189094527Z",
     "start_time": "2023-10-15T15:52:27.968428409Z"
    },
    "collapsed": false
   },
   "outputs": [
    {
     "name": "stdout",
     "output_type": "stream",
     "text": [
      "1: lo: <LOOPBACK,UP,LOWER_UP> mtu 65536 qdisc noqueue state UNKNOWN group default qlen 1000\n",
      "    link/loopback 00:00:00:00:00:00 brd 00:00:00:00:00:00\n",
      "    inet 127.0.0.1/8 scope host lo\n",
      "       valid_lft forever preferred_lft forever\n",
      "    inet6 ::1/128 scope host \n",
      "       valid_lft forever preferred_lft forever\n",
      "2: enp61s0: <NO-CARRIER,BROADCAST,MULTICAST,UP> mtu 1500 qdisc mq state DOWN group default qlen 1000\n",
      "    link/ether 2c:f0:5d:65:a2:52 brd ff:ff:ff:ff:ff:ff\n",
      "3: wlo1: <BROADCAST,MULTICAST,UP,LOWER_UP> mtu 1500 qdisc noqueue state UP group default qlen 1000\n",
      "    link/ether f8:ac:65:88:a7:2a brd ff:ff:ff:ff:ff:ff\n",
      "    altname wlp0s20f3\n",
      "    inet 192.168.31.195/24 brd 192.168.31.255 scope global dynamic noprefixroute wlo1\n",
      "       valid_lft 35823sec preferred_lft 35823sec\n",
      "    inet6 fe80::a28d:4cc9:8eb7:4f88/64 scope link noprefixroute \n",
      "       valid_lft forever preferred_lft forever\n"
     ]
    }
   ],
   "source": [
    "!ip addr"
   ]
  },
  {
   "cell_type": "markdown",
   "id": "f4813bdd7c967361",
   "metadata": {
    "collapsed": false
   },
   "source": [
    "**Крок 4. Відповісти на питання**\n",
    "1. Яка ІР-адреса сайту за результатами виконання команди ping? __________\n",
    "2. Яка ІР-адреса поточного пристрою? ____________\n",
    "3. Яка МАС-адреса поточного пристрою? ____________\n",
    "4. Яка ІРv6-адреса поточного пристрою? ____________\n",
    "5. Яка ІР-адреса шлюзу за замовчуванням? ____________"
   ]
  },
  {
   "cell_type": "markdown",
   "id": "d1408c60efd50549",
   "metadata": {
    "collapsed": false
   },
   "source": [
    "**Крок 5. Привести в звіті результати роботи Ping**\n",
    "\n",
    "Навести в звіті результати виконання кроків №2-4 \\\n",
    "*Не потрібно у разі використання даного шаблону jupyter-notebook*"
   ]
  },
  {
   "cell_type": "markdown",
   "id": "c0d9da27ca8c7823",
   "metadata": {
    "collapsed": false
   },
   "source": [
    "### Частина 2. Підготовка Scapy\n",
    "\n",
    "Підготовка Jupyter-notebook i Scapy для роботи з мережею\n",
    "\n",
    "**Крок 1. Встановлення Scapy**\n",
    "\n",
    "Scapy - бібліотека python для роботи з мережними пакетами та протоколами. \\\n",
    "Документація: <https://scapy.readthedocs.io/en/latest/index.html>\n",
    "\n",
    "1. Вимога - попередньо мають бути встановлені `python3` і пакетний менеджер `pip`\n",
    "2. В командному рядку виконати команду: \\\n",
    "`pip install scapy`\n",
    "\n",
    "**Особливості**:\n",
    "- **Windows**. У випадку попередження \\\n",
    "`Warning: No libpcap provider available! pcap won't be used` \\\n",
    "слід також встановити програму-аналізатор мережних пакетів Wireshark з офіційної сторінки <https://www.wireshark.org>\n",
    "- **Linux** - програма потребує встановлення і доступу з правами адміністратора: \\\n",
    "`sudo pip install notebook scapy`\n",
    "\n",
    "**Крок 2. Запуск Scapy з правами адміністратора**\n",
    "\n",
    "1. Запуск jupyter-notebook з правами адміністратора як середовища для виконання всіх подальших запитів\n",
    "- **Linux** - найпростіший варіант - запуск jupyter-notebook з правами адміністратора:\n",
    "    - Запустити термінал в окремому вікні або як вкладку середовища розробки(не буде працювати у випадку встановлення IDE як Snap/Flatpak пакет)\n",
    "    - Запустити з правами адміністратора: \\\n",
    "    ```\n",
    "    sudo jupyter notebook --allow-root\n",
    "    ```\n",
    "- **Windows** - *попередньо не потрібно, на стадії тестування*\n",
    "    - За необхідності найпростіший варіант - в \"Проводнику\" через пошук знайти `jupyter-notebook.exe` і через контекстне меню обрати \"як Адміністратор\"\n",
    "\n",
    "1. Підключення до запущеного сервера jupyter-notebook - після запуску в терміналі(командному рядку) відображається посилання для доступу до Jupyter-сервера в форматі\n",
    "   `http://127.0.0.1:8888/tree?token=0c86a75d0aa67fc4cb412ee587b990806b3095b63e9d1a6f`\n",
    " \n",
    "- **Робота в браузері** - відкрити посилання і знайти файл блокнота в домашньому каталозі\n",
    "- **Робота в Intellij IDEA / PyCharm**: Tools -> Add Jupyter Connection -> Connect to Jupyter server using URL (не запрацювало)\n",
    "- **Робота в Visual Studio Code**: Select Kernel -> Select Another Kernel -> Existing Jupyter Server -> Enter the URL` -> Ввести URL, підтвердити назву і kernel:Python3\n",
    "\n",
    "**Крок 3. Імпорт бібліотеки Scapy в Python**"
   ]
  },
  {
   "cell_type": "code",
   "execution_count": 2,
   "id": "bc7fec882f6bd85a",
   "metadata": {
    "ExecuteTime": {
     "end_time": "2023-10-15T17:38:08.620055623Z",
     "start_time": "2023-10-15T17:38:08.359028760Z"
    },
    "collapsed": false
   },
   "outputs": [],
   "source": [
    "from scapy.all import *"
   ]
  },
  {
   "cell_type": "markdown",
   "id": "20acba67",
   "metadata": {},
   "source": [
    "### Частина 3. Scapy і заголовки мережних протоколів"
   ]
  },
  {
   "cell_type": "markdown",
   "id": "41ae9d70",
   "metadata": {},
   "source": [
    "\n",
    "**Завдання** - перевірка зв'язку з заданим вузлом, потребує реалізації завдання з частини №1 за допомогою Python та Scapy\n",
    "\n",
    "**Крок 1. Ознайомитися з документацією і прикладами Scapy**\n",
    "\n",
    "Документація:\n",
    "- Офіційна документація з прикладами - <https://scapy.readthedocs.io/en/latest/usage.html>\n",
    "- Блокнот з перекладеними прикладами - <https://github.com/OlegIeremeiev/InfoSecurity/blob/main/Docs_scapy_general.ipynb>\n",
    "\n",
    "\n",
    "**Крок 2. Створити ICMP-пакет для заданого сайту**\n",
    "\n",
    "Для заданого **сайту** та кількості запитів **N** створити ICMP-пакет, використовуючи можливості Python та Scapy."
   ]
  },
  {
   "cell_type": "code",
   "execution_count": 36,
   "id": "eb8d98a2",
   "metadata": {},
   "outputs": [],
   "source": [
    "ping = Ether()/"
   ]
  },
  {
   "cell_type": "markdown",
   "id": "f112de42",
   "metadata": {},
   "source": [
    "**Крок 3. Відправити і отримати відповіді для заданої кількості пакетів** \\\n",
    "Для відправки пакетів і отримання відповіді використовуються функції `sr`, `sr1`, `srp`, `srp1` (докладніше в документації)."
   ]
  },
  {
   "cell_type": "code",
   "execution_count": null,
   "id": "e952f359",
   "metadata": {},
   "outputs": [],
   "source": [
    "answered, unanswered = "
   ]
  },
  {
   "cell_type": "markdown",
   "id": "14a0efba",
   "metadata": {},
   "source": [
    "**Крок 4. Отримати інформацію з відповіді** \\\n",
    "Змінна `answered` представляє собою масив запитів і відповідей у форматі:\n",
    "- `answered[номер запиту][0]` - пакет запиту\n",
    "- `answered[номер запиту][1]` - пакет відповіді\n",
    "\n",
    "В кожному пакеті доступ до поля заголовку одного з протоколів забезпечується по його імені подібно до словника (в залежності від типу пакета і наявних протоколів):\n",
    "- `packet[Ether]`\n",
    "- `packet[IP]`\n",
    "- `packet[ICMP]`\n",
    "- `packet[TCP]`\n",
    "- `packet[UDP]`\n",
    "- тощо"
   ]
  },
  {
   "cell_type": "markdown",
   "id": "6be5ff7a",
   "metadata": {},
   "source": [
    "1. Вивести загальну інформацію відповіді функцією `show()`"
   ]
  },
  {
   "cell_type": "code",
   "execution_count": null,
   "id": "0cbf7590",
   "metadata": {},
   "outputs": [],
   "source": []
  },
  {
   "cell_type": "markdown",
   "id": "0285259d",
   "metadata": {},
   "source": [
    "2. Вивести тільки МАС-адресу відправника запиту"
   ]
  },
  {
   "cell_type": "code",
   "execution_count": null,
   "id": "4f9d96ad",
   "metadata": {},
   "outputs": [],
   "source": []
  },
  {
   "cell_type": "markdown",
   "id": "2e53dfdc",
   "metadata": {},
   "source": [
    "3. МАС-адреса якого пристрою вказана як МАС-адреса отримувача запиту? ___________\n",
    "\n",
    "4. Вивести тільки ІР-адреси відправника запиту і отримувача запиту:"
   ]
  },
  {
   "cell_type": "code",
   "execution_count": null,
   "id": "8f6bbb1a",
   "metadata": {},
   "outputs": [],
   "source": []
  },
  {
   "cell_type": "code",
   "execution_count": null,
   "id": "65728c52",
   "metadata": {},
   "outputs": [],
   "source": []
  },
  {
   "cell_type": "markdown",
   "id": "9fb6e9b2",
   "metadata": {},
   "source": [
    "**Крок 5. Навести в звіті результати роботи завдання**\n",
    "\n",
    "Навести в звіті результати виконання кроку №4 \\\n",
    "*Не потрібно у разі використання даного шаблону jupyter-notebook*"
   ]
  },
  {
   "cell_type": "markdown",
   "id": "4c0fd8e2",
   "metadata": {},
   "source": [
    "### Частина 4. ICMP-запити засобами Scapy\n",
    "\n",
    "**Завдання** - реалізація команди ping засобами Scapy. В даному завданні необхідно навчитися використовувати функцію `sniff()` для захоплення всього трафіку, що проходить через мережний інтерфейс і реалізувати власну функцію `ping`"
   ]
  },
  {
   "cell_type": "markdown",
   "id": "356191ac",
   "metadata": {},
   "source": [
    "**Крок 1. Захоплення пакетів сторонніх програм** \\\n",
    "Функція `sniff()` працює безкінечно або завершує роботу після захоплення вказаної кількості пакетів з можливістю фільтрації по типу пакетів"
   ]
  },
  {
   "cell_type": "code",
   "execution_count": 14,
   "id": "95abeb91",
   "metadata": {},
   "outputs": [
    {
     "name": "stdout",
     "output_type": "stream",
     "text": [
      "0000 Ether / IP / ICMP 192.168.31.195 > 142.250.203.142 echo-request 0 / Raw\n",
      "0001 Ether / IP / ICMP 142.250.203.142 > 192.168.31.195 echo-reply 0 / Raw\n",
      "0002 Ether / IP / ICMP 192.168.31.195 > 142.250.203.142 echo-request 0 / Raw\n",
      "0003 Ether / IP / ICMP 142.250.203.142 > 192.168.31.195 echo-reply 0 / Raw\n",
      "0004 Ether / IP / ICMP 192.168.31.195 > 142.250.203.142 echo-request 0 / Raw\n",
      "0005 Ether / IP / ICMP 142.250.203.142 > 192.168.31.195 echo-reply 0 / Raw\n",
      "0006 Ether / IP / ICMP 192.168.31.195 > 142.250.203.142 echo-request 0 / Raw\n",
      "0007 Ether / IP / ICMP 142.250.203.142 > 192.168.31.195 echo-reply 0 / Raw\n",
      "0008 Ether / IP / ICMP 192.168.31.195 > 142.250.203.142 echo-request 0 / Raw\n",
      "0009 Ether / IP / ICMP 142.250.203.142 > 192.168.31.195 echo-reply 0 / Raw\n"
     ]
    }
   ],
   "source": [
    "capture = sniff(iface=\"wlo1\", filter=\"icmp\", count=10)\n",
    "capture.show()"
   ]
  },
  {
   "cell_type": "markdown",
   "id": "9962e772",
   "metadata": {},
   "source": [
    "**Крок 2. Форматування результатів** \\\n",
    "Необхідно написати код, що дозволяє форматувати інформацію запиту подібно до результатів роботи команди `ping`\n",
    "\n",
    "\n",
    "**Стиль Windows**: \\\n",
    "\\> C:\\Users\\oleg>ping google.com \\\n",
    "~~Обмен пакетами с google.com [172.217.16.46] с 32 байтами данных:~~ \\\n",
    "Ответ от 172.217.16.46: число байт=32 время=23мс TTL=127 \\\n",
    "Ответ от 172.217.16.46: число байт=32 время=25мс TTL=127 \\\n",
    "Ответ от 172.217.16.46: число байт=32 время=24мс TTL=127 \\\n",
    "Ответ от 172.217.16.46: число байт=32 время=24мс TTL=127\n",
    "\n",
    "Зафіксувати час можно використовуючи `TimeStamp` пакетів - `p[ICMP].time` \\\n",
    "Перелік всіх полів окремого пакета можно побачити функцією `ls()`"
   ]
  },
  {
   "cell_type": "code",
   "execution_count": 27,
   "id": "5b10d932",
   "metadata": {},
   "outputs": [
    {
     "name": "stdout",
     "output_type": "stream",
     "text": [
      "dst        : DestMACField                        = 'f8:ac:65:88:a7:2a' ('None')\n",
      "src        : SourceMACField                      = '9c:9d:7e:49:4a:8e' ('None')\n",
      "type       : XShortEnumField                     = 2048            ('36864')\n",
      "--\n",
      "version    : BitField  (4 bits)                  = 4               ('4')\n",
      "ihl        : BitField  (4 bits)                  = 5               ('None')\n",
      "tos        : XByteField                          = 0               ('0')\n",
      "len        : ShortField                          = 84              ('None')\n",
      "id         : ShortField                          = 0               ('1')\n",
      "flags      : FlagsField                          = <Flag 0 ()>     ('<Flag 0 ()>')\n",
      "frag       : BitField  (13 bits)                 = 0               ('0')\n",
      "ttl        : ByteField                           = 119             ('64')\n",
      "proto      : ByteEnumField                       = 1               ('0')\n",
      "chksum     : XShortField                         = 2229            ('None')\n",
      "src        : SourceIPField                       = '142.250.203.142' ('None')\n",
      "dst        : DestIPField                         = '192.168.31.195' ('None')\n",
      "options    : PacketListField                     = []              ('[]')\n",
      "--\n",
      "type       : ByteEnumField                       = 0               ('8')\n",
      "code       : MultiEnumField (Depends on 0)       = 0               ('0')\n",
      "chksum     : XShortField                         = 46252           ('None')\n",
      "id         : XShortField (Cond)                  = 31              ('0')\n",
      "seq        : XShortField (Cond)                  = 1               ('0')\n",
      "ts_ori     : ICMPTimeStampField (Cond)           = None            ('38050204')\n",
      "ts_rx      : ICMPTimeStampField (Cond)           = None            ('38050204')\n",
      "ts_tx      : ICMPTimeStampField (Cond)           = None            ('38050205')\n",
      "gw         : IPField (Cond)                      = None            (\"'0.0.0.0'\")\n",
      "ptr        : ByteField (Cond)                    = None            ('0')\n",
      "reserved   : ByteField (Cond)                    = None            ('0')\n",
      "length     : ByteField (Cond)                    = None            ('0')\n",
      "addr_mask  : IPField (Cond)                      = None            (\"'0.0.0.0'\")\n",
      "nexthopmtu : ShortField (Cond)                   = None            ('0')\n",
      "unused     : MultipleTypeField (ShortField, IntField, StrFixedLenField) = b''             (\"b''\")\n",
      "--\n",
      "load       : StrField                            = b'K\\x16-e\\x00\\x00\\x00\\x00\\x11\\xe5\\x02\\x00\\x00\\x00\\x00\\x00\\x10\\x11\\x12\\x13\\x14\\x15\\x16\\x17\\x18\\x19\\x1a\\x1b\\x1c\\x1d\\x1e\\x1f !\"#$%&\\'()*+,-./01234567' (\"b''\")\n"
     ]
    }
   ],
   "source": [
    "ls(capture[1])"
   ]
  },
  {
   "cell_type": "markdown",
   "id": "1dc9b940",
   "metadata": {},
   "source": [
    "Windows-style(приклад): \\\n",
    "Ответ от 142.250.203.142: число байт=64 время=25мс TTL=119 \\\n",
    "Ответ от 142.250.203.142: число байт=64 время=26мс TTL=119 \\\n",
    "Ответ от 142.250.203.142: число байт=64 время=25мс TTL=119 \\\n",
    "Ответ от 142.250.203.142: число байт=64 время=26мс TTL=119 \\\n",
    "Ответ от 142.250.203.142: число байт=64 время=25мс TTL=119"
   ]
  },
  {
   "cell_type": "code",
   "execution_count": null,
   "id": "4fb9737c",
   "metadata": {},
   "outputs": [],
   "source": []
  },
  {
   "cell_type": "markdown",
   "id": "2f058a73",
   "metadata": {},
   "source": [
    "**Бонусне завдання - стиль Linux**: \\\n",
    "\\$ ping google.com \\\n",
    "PING google.com (142.250.203.142) 56(84) bytes of data. \\\n",
    "64 bytes from waw07s06-in-f14.1e100.net (142.250.203.142): icmp_seq=1 ttl=119 time=25.9 ms \\\n",
    "64 bytes from waw07s06-in-f14.1e100.net (142.250.203.142): icmp_seq=2 ttl=119 time=25.6 ms \\\n",
    "64 bytes from waw07s06-in-f14.1e100.net (142.250.203.142): icmp_seq=3 ttl=119 time=24.9 ms \\\n",
    "64 bytes from waw07s06-in-f14.1e100.net (142.250.203.142): icmp_seq=4 ttl=119 time=25.5 ms \\\n",
    "\n",
    "З коду: \\\n",
    "64 bytes from waw07s06-in-f14.1e100.net (142.250.203.142): icmp_seq=0 ttl=119 time=25.0 ms \\\n",
    "64 bytes from waw07s06-in-f14.1e100.net (142.250.203.142): icmp_seq=1 ttl=119 time=26.0 ms \\\n",
    "..."
   ]
  },
  {
   "cell_type": "code",
   "execution_count": null,
   "id": "18270b5a",
   "metadata": {},
   "outputs": [],
   "source": []
  },
  {
   "cell_type": "markdown",
   "id": "38c5b963",
   "metadata": {},
   "source": [
    "**Крок 3. Застосування Asynchronous Sniffing**\n",
    "\n",
    "Данний режим дозволяє запускати і завершувати сніфінг за потреби після виконання необхідного коду\n",
    "\n",
    "```python\n",
    "t = AsyncSniffer()\n",
    "t.start()\n",
    "print(\"hey\") # hey\n",
    "...\n",
    "results = t.stop()\n",
    "```\n",
    "\n",
    "Використовуючи даний режим зробіть запити з форматованим відображенням результатів"
   ]
  },
  {
   "cell_type": "code",
   "execution_count": 77,
   "id": "bd05a08b",
   "metadata": {},
   "outputs": [
    {
     "name": "stdout",
     "output_type": "stream",
     "text": [
      "Begin emission:\n",
      "Finished sending 5 packets.\n",
      ".**...............*.........*.*\n",
      "Received 31 packets, got 5 answers, remaining 0 packets\n",
      "0000 Ether / IP / ICMP 192.168.31.195 > 142.250.203.142 echo-request 0\n",
      "0001 Ether / IP / ICMP 142.250.203.142 > 192.168.31.195 echo-reply 0\n",
      "0002 Ether / IP / ICMP 192.168.31.195 > 142.250.203.142 echo-request 0\n",
      "0003 Ether / IP / ICMP 142.250.203.142 > 192.168.31.195 echo-reply 0\n",
      "0004 Ether / IP / ICMP 192.168.31.195 > 142.250.203.142 echo-request 0\n",
      "0005 Ether / IP / ICMP 142.250.203.142 > 192.168.31.195 echo-reply 0\n",
      "0006 Ether / IP / ICMP 192.168.31.195 > 142.250.203.142 echo-request 0\n",
      "0007 Ether / IP / ICMP 142.250.203.142 > 192.168.31.195 echo-reply 0\n",
      "0008 Ether / IP / ICMP 192.168.31.195 > 142.250.203.142 echo-request 0\n",
      "0009 Ether / IP / ICMP 142.250.203.142 > 192.168.31.195 echo-reply 0\n"
     ]
    }
   ],
   "source": [
    "t = AsyncSniffer(iface=\"wlo1\", filter=\"icmp\")\n",
    "t.start()\n",
    "\n",
    "# place for pings\n",
    "\n",
    "\n",
    "\n",
    "capture = t.stop()\n",
    "capture.show()"
   ]
  },
  {
   "cell_type": "markdown",
   "id": "6bd6d80d",
   "metadata": {},
   "source": [
    "**Крок 4. Навести в звіті результати роботи завдання**\n",
    "\n",
    "Навести в звіті результати виконання кроків №2-3 \\\n",
    "*Не потрібно у разі використання даного шаблону jupyter-notebook*"
   ]
  }
 ],
 "metadata": {
  "kernelspec": {
   "display_name": "Python 3 (ipykernel)",
   "language": "python",
   "name": "python3"
  },
  "language_info": {
   "codemirror_mode": {
    "name": "ipython",
    "version": 3
   },
   "file_extension": ".py",
   "mimetype": "text/x-python",
   "name": "python",
   "nbconvert_exporter": "python",
   "pygments_lexer": "ipython3",
   "version": "3.12.0"
  }
 },
 "nbformat": 4,
 "nbformat_minor": 5
}
