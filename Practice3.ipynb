{
 "cells": [
  {
   "cell_type": "markdown",
   "id": "a56484bd33e3b724",
   "metadata": {
    "collapsed": false
   },
   "source": [
    "<div align='center'>\n",
    "МІНІСТЕРСТВО ОСВІТИ І НАУКИ УКРАЇНИ\n",
    "\n",
    "Національний аерокосмічний університет ім. М.Є.Жуковського\n",
    "\"Харківський авіаційний інститут\"\n",
    "\n",
    "Факультет радіотехніки, комп’ютерних систем і інфокомунікацій\n",
    "\n",
    "Кафедра інформаційно-комунікаційних технологій ім. О. О. Зеленського\n",
    "\n",
    "\n",
    "ПРАКТИЧНА РОБОТА №3\n",
    "\n",
    "з курсу \"Захист інформації в інфокомунікаціях\"\n",
    "\n",
    "на тему \"Пошук мережевих вразливостей кінцевого пристрою\"\n",
    "\n",
    "<div align='right'>\n",
    "Виконав: студент ??? курсу\n",
    "\n",
    "групи № ???\n",
    "\n",
    "спеціальності 172 \"Телекомунікації та радіотехника\" / 126 \"Інформаційні системи і технології\" (залишити необхідне)\n",
    "\n",
    "Прізвище та ініціали\n",
    "\n",
    "Прийняв: (вказати посаду)\n",
    "\n",
    "Прізвище та ініціали викладача\n",
    "\n",
    "Національна шкала: __________\n",
    "\n",
    "Кількість балів: _____\n",
    "\n",
    "Оцінка: ECTS _____ \n",
    "</div>\n",
    "\n",
    "Харків - 2023\n",
    "</div>"
   ]
  },
  {
   "cell_type": "markdown",
   "id": "4ef8d3b551d4a372",
   "metadata": {
    "collapsed": false
   },
   "source": [
    "## Практична робота №3. Пошук мережевих вразливостей кінцевого пристрою\n",
    "\n",
    "**Мета роботи**: ознайомитися з синтаксисом мови програмування Python і пакету Scapy, скласти скрипт, що відправляє запити за протоколом ICMP, з метою виявлення пристроїв у мережі та використовуваних ними мережевих протоколів.\n",
    "\n",
    "### Зміст\n",
    "\n",
    "- Частина 1. Вивчення ПЗ Nmap і сканування мережі\n",
    "- Частина 2. Злом слабкого паролю"
   ]
  },
  {
   "cell_type": "markdown",
   "id": "7eedbdc4",
   "metadata": {},
   "source": [
    "### Частина 1. Вивчення ПЗ Nmap і сканування мережі"
   ]
  },
  {
   "cell_type": "markdown",
   "id": "ef5fac7169a23821",
   "metadata": {
    "collapsed": false
   },
   "source": [
    "#### Завдання №1. Перевірка зв'язку з заданим вузлом командою ping\n",
    "\n",
    "Для перевірки зв'язку використовують системну команду `ping`, що надсилає ICMP-пакети на задану адресу і отримує відповідь\n",
    "\n",
    "Для заданого **сайту** виконати запит командою `ping` з відправкою **N** пакетів (у Windows використовуйте параметр `-n`, у Linux - `-c`)\n",
    "\n",
    "**Крок 1. Обрати адресу призначення за варіантом по списку**\n",
    "\n",
    "|Варіант|Сайт|Кількість запитів N|\n",
    "|---|---|---|\n",
    "|1|google.com|6|\n",
    "|2|yahoo.com|3|\n",
    "|3|facebook.com|4|\n",
    "|4|python.org|5|\n",
    "|5|youtube.com|6|\n",
    "|6|wikipedia.org|3|\n",
    "|7|amazon.com|4|\n",
    "|8|live.com|5|\n",
    "|9|bing.com|6|\n",
    "|10|instagram.com|3|\n",
    "|11|stackoverflow.com|4|\n",
    "|12|whatsapp.com|5|\n",
    "|13|twitter.com|6|\n",
    "|14|telegram.com|3|\n",
    "|15|viber.com|4|\n",
    "|16|ukr.net|5|\n",
    "|17|accuweather.com|6|\n",
    "|18|sinoptik.ua|3|\n",
    "|19|gismeteo.ua|4|\n",
    "|20|i.ua|5|\n",
    "|21|www.netacad.com|6|\n",
    "\n",
    "**Крок 2. Створити ping-запит**"
   ]
  },
  {
   "cell_type": "code",
   "execution_count": null,
   "id": "f5c6f901",
   "metadata": {},
   "outputs": [],
   "source": [
    "!ping"
   ]
  },
  {
   "cell_type": "markdown",
   "id": "62b36ad26970474a",
   "metadata": {
    "collapsed": false
   },
   "source": [
    "##### Завдання №2. Сканування мережі за допомогою Nmap\n",
    "\n",
    "Nmap - програмне забезпечення для дослідження та аудиту безпеки мереж та виявлення активних мережних сервісів. \\\n",
    "Nmap використовує як протокол ICMP, так і TCP, UDP та інші. \n",
    "\n",
    "**Крок 1. Встановити nmap**\n",
    "- для Windows - завантажити зі сторінки <https://nmap.org/download.html>\n",
    "- для Linux - в терміналі виконати команди\n",
    "    - для дистрибутивів на основі Debian/Ubuntu: sudo apt install nmap\n",
    "    - для дистрибутивів на основі RedHat: sudo dnf install nmap\n",
    "    - або слідувати інструкції зі сторінки <https://nmap.org/download.html>\n",
    "\n",
    "**Крок 2. Ознайомитися з можливостями Nmap** \\\n",
    "Запустити з командного рядка та вивчити можливості програми. `Help` та інструкцію з використання можна вивести за командою:"
   ]
  },
  {
   "cell_type": "code",
   "execution_count": null,
   "id": "initial_id",
   "metadata": {
    "collapsed": true
   },
   "outputs": [],
   "source": [
    "!nmap -h"
   ]
  },
  {
   "cell_type": "markdown",
   "id": "d4c358640c142fd8",
   "metadata": {
    "collapsed": false
   },
   "source": [
    "**Крок 3. Визначити в мережевих налаштуваннях мережну адресу пристрою і мережі в цілому** \\\n",
    "Команди командного рядка(терміналу) для визначення налаштувань мережі: \n",
    "- для Windows - `ipconfig /all`\n",
    "- для Linux - `ip -br addr`\n",
    "- або зайти в графічний інтерфейс налаштувань мережі"
   ]
  },
  {
   "cell_type": "code",
   "execution_count": 4,
   "id": "2056fe7d7a3bc34b",
   "metadata": {
    "ExecuteTime": {
     "end_time": "2023-10-15T15:52:28.189094527Z",
     "start_time": "2023-10-15T15:52:27.968428409Z"
    },
    "collapsed": false
   },
   "outputs": [
    {
     "name": "stdout",
     "output_type": "stream",
     "text": [
      "1: lo: <LOOPBACK,UP,LOWER_UP> mtu 65536 qdisc noqueue state UNKNOWN group default qlen 1000\n",
      "    link/loopback 00:00:00:00:00:00 brd 00:00:00:00:00:00\n",
      "    inet 127.0.0.1/8 scope host lo\n",
      "       valid_lft forever preferred_lft forever\n",
      "    inet6 ::1/128 scope host \n",
      "       valid_lft forever preferred_lft forever\n",
      "2: enp61s0: <NO-CARRIER,BROADCAST,MULTICAST,UP> mtu 1500 qdisc mq state DOWN group default qlen 1000\n",
      "    link/ether 2c:f0:5d:65:a2:52 brd ff:ff:ff:ff:ff:ff\n",
      "3: wlo1: <BROADCAST,MULTICAST,UP,LOWER_UP> mtu 1500 qdisc noqueue state UP group default qlen 1000\n",
      "    link/ether f8:ac:65:88:a7:2a brd ff:ff:ff:ff:ff:ff\n",
      "    altname wlp0s20f3\n",
      "    inet 192.168.31.195/24 brd 192.168.31.255 scope global dynamic noprefixroute wlo1\n",
      "       valid_lft 35667sec preferred_lft 35667sec\n",
      "    inet6 fe80::a28d:4cc9:8eb7:4f88/64 scope link noprefixroute \n",
      "       valid_lft forever preferred_lft forever\n"
     ]
    }
   ],
   "source": [
    "!ip addr"
   ]
  },
  {
   "cell_type": "markdown",
   "id": "f4813bdd7c967361",
   "metadata": {
    "collapsed": false
   },
   "source": [
    "**Крок 4. Просканувати свою мережу** \\\n",
    "Приклади опцій з кроку №2:\n",
    "- Ключ `-v` ... `-vvvvv` вказує на різний рівень відображення інформації про сканування\n",
    "- Ключ `-A` вказує на запуск скриптів з визначення версій ОС та ПЗ (\"Enable OS detection, version detection, script scanning, and traceroute\")"
   ]
  },
  {
   "cell_type": "code",
   "execution_count": null,
   "id": "1c0a754289121dd1",
   "metadata": {
    "collapsed": false
   },
   "outputs": [],
   "source": [
    "!nmap -v -A адреса_мережі/префікс_мережі"
   ]
  },
  {
   "cell_type": "markdown",
   "id": "d1408c60efd50549",
   "metadata": {
    "collapsed": false
   },
   "source": [
    "**Крок 5. Привести в звіті результати роботи Ping та Nmap**\n",
    "\n",
    "Навести в звіті налаштування мережі і результати виконання команд Ping та програмою Nmap \\\n",
    "*Не потрібно у разі використання даного шаблону jupyter-notebook*"
   ]
  },
  {
   "cell_type": "markdown",
   "id": "c0d9da27ca8c7823",
   "metadata": {
    "collapsed": false
   },
   "source": [
    "### Частина 2. Розробка власного ПЗ з використанням Python i Scapy\n",
    "\n",
    "##### Підготовка Jupyter-notebook i Scapy\n",
    "\n",
    "**Крок 1. Встановлення Scapy**\n",
    "\n",
    "Scapy - бібліотека python для роботи з мережними пакетами та протоколами. \\\n",
    "Документація: <https://scapy.readthedocs.io/en/latest/index.html>\n",
    "\n",
    "1. Вимога - попередньо мають бути встановлені `python3` і пакетний менеджер `pip`\n",
    "2. В командному рядку виконати команду: \\\n",
    "`pip install scapy`\n",
    "\n",
    "**Особливості**:\n",
    "- **Windows**. У випадку попередження \\\n",
    "`Warning: No libpcap provider available! pcap won't be used` \\\n",
    "слід також встановити програму-аналізатор мережних пакетів Wireshark з офіційної сторінки <https://www.wireshark.org>\n",
    "- **Linux** - програма потребує встановлення і доступу з правами адміністратора: \\\n",
    "`sudo pip install notebook scapy`\n",
    "\n",
    "**Крок 2. Запуск Scapy з правами адміністратора**\n",
    "\n",
    "1. Запуск jupyter-notebook з правами адміністратора як середовища для виконання всіх подальших запитів\n",
    "- **Linux** - найпростіший варіант - запуск jupyter-notebook з правами адміністратора:\n",
    "    - Запустити термінал в окремому вікні або як вкладку середовища розробки(не буде працювати у випадку встановлення IDE як Snap/Flatpak пакет)\n",
    "    - Запустити з правами адміністратора: \\\n",
    "    ```\n",
    "    sudo jupyter notebook --allow-root\n",
    "    ```\n",
    "- **Windows** - *попередньо не потрібно, на стадії тестування*\n",
    "    - За необхідності найпростіший варіант - в \"Проводнику\" через пошук знайти `jupyter-notebook.exe` і через контекстне меню обрати \"як Адміністратор\"\n",
    "\n",
    "1. Підключення до запущеного сервера jupyter-notebook - після запуску в терміналі(командному рядку) відображається посилання для доступу до Jupyter-сервера в форматі\n",
    "   `http://127.0.0.1:8888/tree?token=0c86a75d0aa67fc4cb412ee587b990806b3095b63e9d1a6f`\n",
    " \n",
    "- **Робота в браузері** - відкрити посилання і знайти файл блокнота в домашньому каталозі\n",
    "- **Робота в Intellij IDEA / PyCharm**: Tools -> Add Jupyter Connection -> Connect to Jupyter server using URL (не запрацювало)\n",
    "- **Робота в Visual Studio Code**: Select Kernel -> Select Another Kernel -> Existing Jupyter Server -> Enter the URL` -> Ввести URL, підтвердити назву і kernel:Python3\n",
    "\n",
    "**Крок 3. Імпорт бібліотеки Scapy в Python**"
   ]
  },
  {
   "cell_type": "code",
   "execution_count": 8,
   "id": "bc7fec882f6bd85a",
   "metadata": {
    "ExecuteTime": {
     "end_time": "2023-10-15T17:38:08.620055623Z",
     "start_time": "2023-10-15T17:38:08.359028760Z"
    },
    "collapsed": false
   },
   "outputs": [],
   "source": [
    "from scapy.all import *"
   ]
  },
  {
   "cell_type": "markdown",
   "id": "41ae9d70",
   "metadata": {},
   "source": [
    "##### Завдання №3. Перевірка зв'язку з заданим вузлом\n",
    "\n",
    "Завдання №3 - реалізувати завдання №1 за допомогою Python та Scapy\n",
    "\n",
    "**Крок 1. Ознайомитися з документацією і прикладами Scapy**\n",
    "\n",
    "Документація:\n",
    "- Офіційна документація з прикладами - <https://scapy.readthedocs.io/en/latest/usage.html>\n",
    "- Блокнот з перекладеними прикладами - <https://github.com/OlegIeremeiev/InfoSecurity/blob/main/Docs_scapy_general.ipynb>\n",
    "\n",
    "\n",
    "**Крок 2. Створити ICMP-пакет для заданого сайту**\n",
    "\n",
    "Для заданого **сайту** та кількості запитів **N** створити ICMP-пакет, використовуючи можливості Python та Scapy."
   ]
  },
  {
   "cell_type": "code",
   "execution_count": 36,
   "id": "eb8d98a2",
   "metadata": {},
   "outputs": [],
   "source": [
    "ping = Ether()/"
   ]
  },
  {
   "cell_type": "markdown",
   "id": "f112de42",
   "metadata": {},
   "source": [
    "**Крок 3. Відправити і отримати відповіді для заданої кількості пакетів** \\\n",
    "Для відправки пакетів і отримання відповіді використовуються функції `sr`, `sr1`, `srp`, `srp1` (докладніше в документації)."
   ]
  },
  {
   "cell_type": "code",
   "execution_count": null,
   "id": "e952f359",
   "metadata": {},
   "outputs": [],
   "source": [
    "answered, unanswered = "
   ]
  },
  {
   "cell_type": "markdown",
   "id": "14a0efba",
   "metadata": {},
   "source": [
    "**Крок 4. Отримати інформацію з відповіді** \\\n",
    "Вивести наступну інформацію:\n",
    "- Загальну інформацію відповіді функцією `show()`\n",
    "- МАС-адресу відправника запиту\n",
    "- ІР-адресу відправника запиту\n",
    "- ІР-адресу отримувача запиту\n",
    "\n",
    "Змінна `answered` представляє собою масив запитів і відповідей у форматі:\n",
    "- `answered[номер запиту][0]` - пакет запиту\n",
    "- `answered[номер запиту][1]` - пакет відповіді\n",
    "\n",
    "В кожному пакеті доступ до поля заголовку одного з протоколів забезпечується по його імені подібно до словника (в залежності від типу пакета і наяних протоколів):\n",
    "- `packet[Ether]`\n",
    "- `packet[IP]`\n",
    "- `packet[ICMP]`\n",
    "- `packet[TCP]`\n",
    "- `packet[UDP]`\n",
    "- тощо"
   ]
  },
  {
   "cell_type": "code",
   "execution_count": null,
   "id": "0cbf7590",
   "metadata": {},
   "outputs": [],
   "source": [
    "answered[0]"
   ]
  },
  {
   "cell_type": "code",
   "execution_count": null,
   "id": "4f9d96ad",
   "metadata": {},
   "outputs": [],
   "source": [
    "answered[0]"
   ]
  },
  {
   "cell_type": "code",
   "execution_count": null,
   "id": "8f6bbb1a",
   "metadata": {},
   "outputs": [],
   "source": [
    "answered[0]"
   ]
  },
  {
   "cell_type": "code",
   "execution_count": null,
   "id": "65728c52",
   "metadata": {},
   "outputs": [],
   "source": [
    "answered[0]"
   ]
  },
  {
   "cell_type": "markdown",
   "id": "9962e772",
   "metadata": {},
   "source": [
    "**Крок 5. Бонусне завдання** - відформатувати інформацію запиту подібно до результатів роботи команди `ping`"
   ]
  },
  {
   "cell_type": "code",
   "execution_count": null,
   "id": "95abeb91",
   "metadata": {},
   "outputs": [],
   "source": []
  },
  {
   "cell_type": "markdown",
   "id": "38c5b963",
   "metadata": {},
   "source": [
    "**Крок 6. Навести в звіті результати роботи по завданню №3**\n",
    "\n",
    "*Не потрібно у разі виконанні завдання у даному шаблоні jupyter-notebook*"
   ]
  },
  {
   "cell_type": "markdown",
   "id": "356191ac",
   "metadata": {},
   "source": [
    "##### Завдання №4. Провести сканування власної мережі і виявити працюючі вузли і TCP-служби в них\n",
    "\n",
    "Завдання №4 - реалізація завдання №2 за допомогою Python i Scapy\n",
    "\n",
    "**Крок 1. Виконати ICMP-запити на всі вузли мережі**\n",
    "\n",
    "Рекомендації:\n",
    "- Для уникнення нескінченного очікування на відповідь від неіснуючих вузлів встановіть `timeout` на 1 секунду або менше\n",
    "- Для зменешення затримок через постійні ARP-запити на визначення МАС-адреси неіснуючих вузлів бажано відразу відправляти широкомовні запити з МАС-адресою отримувача 'ff:ff:ff:ff:ff:ff'"
   ]
  },
  {
   "cell_type": "code",
   "execution_count": null,
   "id": "7ba8b609",
   "metadata": {},
   "outputs": [],
   "source": [
    "ans, un = "
   ]
  },
  {
   "cell_type": "code",
   "execution_count": 46,
   "id": "f9da7f58",
   "metadata": {},
   "outputs": [
    {
     "name": "stdout",
     "output_type": "stream",
     "text": [
      "0000 Ether / IP / ICMP 192.168.31.195 > 192.168.31.1 echo-request 0 ==> Ether / IP / ICMP 192.168.31.1 > 192.168.31.195 echo-reply 0\n",
      "0001 Ether / IP / ICMP 192.168.31.195 > 192.168.31.169 echo-request 0 ==> Ether / IP / ICMP 192.168.31.169 > 192.168.31.195 echo-reply 0\n"
     ]
    }
   ],
   "source": [
    "ans.show()"
   ]
  },
  {
   "cell_type": "markdown",
   "id": "5f48f142",
   "metadata": {},
   "source": [
    "**Крок 2. Зробити TCP-scanning** \\\n",
    "Для активних вузлів зробити TCP-scanning (в матеріалах лекції та на офіційній сторінці Scapy). \\\n",
    "Щонайменше мають бути перевірені порти 20-150 і 443, бажано до 1000. Якщо використовуються сервери баз даних, то варто і їх включити у перелік портів, що скануються"
   ]
  },
  {
   "cell_type": "code",
   "execution_count": null,
   "id": "1d41f0da",
   "metadata": {},
   "outputs": [],
   "source": []
  },
  {
   "cell_type": "markdown",
   "id": "ee1e70d2",
   "metadata": {},
   "source": [
    "Вивести результат сканування, наприклад за командою, наведеною в документації:"
   ]
  },
  {
   "cell_type": "code",
   "execution_count": 88,
   "id": "8d938c19",
   "metadata": {},
   "outputs": [
    {
     "name": "stdout",
     "output_type": "stream",
     "text": [
      "0050 IP / TCP 192.168.31.195:ftp_data > 192.168.31.1:domain S ==> IP / TCP 192.168.31.1:domain > 192.168.31.195:ftp_data SA\n",
      "0079 IP / TCP 192.168.31.195:ftp_data > 192.168.31.1:http S ==> IP / TCP 192.168.31.1:http > 192.168.31.195:ftp_data SA\n",
      "0195 IP / TCP 192.168.31.195:ftp_data > 192.168.31.169:https S ==> IP / TCP 192.168.31.169:https > 192.168.31.195:ftp_data SA\n"
     ]
    }
   ],
   "source": [
    "ans.nsummary( lfilter=lambda s,r: (r.haslayer(TCP) and (r.getlayer(TCP).flags & 2)) )"
   ]
  },
  {
   "cell_type": "markdown",
   "id": "ca8875cd",
   "metadata": {},
   "source": [
    "**Крок 3. Бонусне завдання** - відформатувати інформацію кроку №2 подібно до результатів роботи команди `nmap`"
   ]
  },
  {
   "cell_type": "markdown",
   "id": "830ed50e",
   "metadata": {},
   "source": [
    "**Крок 4. Навести в звіті результати роботи по завданню №4**\n",
    "\n",
    "*Не потрібно у разі виконанні завдання у даному шаблоні jupyter-notebook*"
   ]
  }
 ],
 "metadata": {
  "kernelspec": {
   "display_name": "Python 3 (ipykernel)",
   "language": "python",
   "name": "python3"
  },
  "language_info": {
   "codemirror_mode": {
    "name": "ipython",
    "version": 3
   },
   "file_extension": ".py",
   "mimetype": "text/x-python",
   "name": "python",
   "nbconvert_exporter": "python",
   "pygments_lexer": "ipython3",
   "version": "3.10.12"
  }
 },
 "nbformat": 4,
 "nbformat_minor": 5
}
