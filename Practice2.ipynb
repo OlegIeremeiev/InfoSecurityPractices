{
 "cells": [
  {
   "cell_type": "markdown",
   "id": "4c3c3ebb323a9802",
   "metadata": {
    "collapsed": false
   },
   "source": [
    "<div align='center'>\n",
    "МІНІСТЕРСТВО ОСВІТИ І НАУКИ УКРАЇНИ\n",
    "\n",
    "Національний аерокосмічний університет ім. М.Є.Жуковського<br/>\n",
    "\"Харківський авіаційний інститут\"\n",
    "\n",
    "Факультет радіотехніки, комп’ютерних систем і інфокомунікацій\n",
    "\n",
    "Кафедра інформаційно-комунікаційних технологій ім. О. О. Зеленського\n",
    "\n",
    "\n",
    "ПРАКТИЧНА РОБОТА №2\n",
    "\n",
    "з курсу \"Захист інформації в інфокомунікаціях\"\n",
    "\n",
    "на тему \"Оцінка стійкості пароля до зламу\"\n",
    "\n",
    "<div align='right'>\n",
    "Виконав: студент ??? курсу\n",
    "\n",
    "групи № ???\n",
    "\n",
    "спеціальності 172 \"Телекомунікації та радіотехника\" / 126 \"Інформаційні системи і технології\" (залишити необхідне)\n",
    "\n",
    "Прізвище та ініціали\n",
    "\n",
    "Прийняв: (вказати посаду)\n",
    "\n",
    "Прізвище та ініціали викладача\n",
    "\n",
    "Національна шкала: __________\n",
    "\n",
    "Кількість балів: _____\n",
    "\n",
    "Оцінка: ECTS _____ \n",
    "</div>\n",
    "\n",
    "Харків - 2023\n",
    "</div>\n"
   ]
  },
  {
   "cell_type": "markdown",
   "id": "e4916369a402a030",
   "metadata": {
    "collapsed": false
   },
   "source": [
    "## Практична робота №2. Оцінка стійкості пароля до зламу\n",
    "\n",
    "**Мета роботи**: використовуючи мову програмування Python написати програму для оцінювання стійкості пароля до зламу та перевірити пароль на стійкість.\n",
    "\n",
    "**Вихідні дані**: алгоритм оцінювання стійкості пароля, програмне забезпечення John the Ripper. \n",
    "\n",
    "**Результат**: реалізована програма оцінювання стійкості пароля, відновлений слабкий пароль.\n",
    "\n",
    "#### Зміст\n",
    "\n",
    "- Частина 1. Програма оцінювання стійкості пароля до зламу\n",
    "- Частина 2. Злам слабкого паролю\n",
    "\n",
    "Завдання підготовлено з використанням пакету jupyter-notebook  для мови програмування Python. Приклад команди для встановлення \n",
    "\n",
    "`pip install notebook` або більш функціональні продукти за посиланням -  https://jupyter.org/install\n",
    "\n",
    "Працює як окремий веб-сервер в браузері або підтримує інтеграцію середовищ розробки PyCharm/Intellij IDEA або Visual Studio Code"
   ]
  },
  {
   "cell_type": "markdown",
   "id": "577def29a7a3332d",
   "metadata": {
    "collapsed": false
   },
   "source": [
    "#### Частина 1. Програма оцінювання стійкості пароля до зламу\n",
    "\n",
    "**Завдання**:\n",
    "Напишіть програму для оцінювання складності пароля. Умови алгоритму обчислення стійкості U пароля до зламу:\n",
    "\n",
    "1. Перевірка на довжину. Нехай L - довжина пароля:\n",
    "   - якщо довжина пароля L ≤ 4, то U=0;\n",
    "   - інакше, якщо 5 ≤ L ≤ 7, то U=6;\n",
    "   - інакше, якщо 8 ≤ L ≤ 15, то U=12;\n",
    "   - інакше, якщо 16 ≤ L, то U=18.\n",
    "\n",
    "2. Перевірка на наявність літер:\n",
    "   - якщо в паролі є літери, але тільки в одному (нижньому або верхньому регістрі), U=U+5;\n",
    "   - інакше, якщо в паролі є літери й у нижньому та у верхньому регістрах, то U=U+7.\n",
    "\n",
    "3. Перевірка на наявність цифр. Нехай N – число цифр у паролі:\n",
    "   - якщо число цифр у паролі 1 ≤ N ≤ 2, то U=U+5;\n",
    "   - інакше, якщо 3 ≤ N, то U=U+7.\n",
    "\n",
    "4. Перевірка на наявність спецсимволів. Нехай S - число спецсимволів (#$%@) у паролі:\n",
    "   - якщо 1 ≤ S < 2, то U=U+5;\n",
    "   - інакше, якщо 2 ≤ S, U=U+10.\n",
    "\n",
    "5. Перевірка на загальну складність пароля:\n",
    "   - якщо в паролі є літери в обох регістрах, спецсимволи та цифри, то U=U+6;\n",
    "   - інакше, якщо чогось одного з цього немає, U=U+4.\n",
    "\n",
    "В результаті має бути висновок:\n",
    "- якщо U < 16 - пароль дуже слабкий;\n",
    "- інакше, якщо 15 < U < 25 – слабкий;\n",
    "- інакше, якщо 24 < U < 35 – середній;\n",
    "- інакше, якщо 34 < U < 45 – сильний;\n",
    "- інакше, якщо 44 < U – дуже сильний.\n",
    "\n",
    "**Примітка**: наведений алгоритм містить в тому числі і неявні умови, що мають бути враховані.\n",
    "\n",
    "**Рекомендовані методи Python**\n",
    "\n",
    "Для перевірки символу можете використовувати наступні методи (приклад для змінної “c”):\n",
    "1) Метод `с.islower()` для перевірки відповідності нижньому регістру;\n",
    "2) Метод `c.isupper()` для перевірки відповідності верхньому регістру;\n",
    "3) Метод `c.isnumeric()` для перевірки відповідності цифрі;\n",
    "4) Пошук у рядку для перевірки наявності спеціальних символів: `c in “symbols”`\n",
    "\n",
    "Можуть бути використані й інші інструменти для подібних перевірок, зокрема регулярні вирази."
   ]
  },
  {
   "cell_type": "markdown",
   "metadata": {},
   "source": [
    "##### Крок 1. Написати програму для оцінювання складності пароля згідно з алгоритмом, наведеним вище\n",
    "Програма має виводити як повідомлення щодо складності пароля, так і набране значення змінної `U`. Бажаним є реалізація алгоритму у вигляді окремої функції або методу класу, наприклад, використовуючи шаблон нижче і доповнюючи необхідним кодом."
   ]
  },
  {
   "cell_type": "code",
   "execution_count": 2,
   "id": "2fa8159fe2b8e8ba",
   "metadata": {
    "ExecuteTime": {
     "end_time": "2023-09-27T09:14:51.846254046Z",
     "start_time": "2023-09-27T09:14:51.810506647Z"
    },
    "collapsed": false
   },
   "outputs": [],
   "source": [
    "def check_password(password):\n",
    "    L = len(password)\n",
    "    \n",
    "    if L <= 4:\n",
    "        U = 0\n",
    "    elif 5 <= L <= 7:\n",
    "        U = 6\n",
    "    elif 8 <= L <=15:\n",
    "        U = 12\n",
    "    else:\n",
    "        U = 18\n",
    "\n",
    "    # some code\n",
    "    # ...\n",
    "\n",
    "    if U < 16:\n",
    "        print(f\"Пароль дуже слабкий, {U}\")\n"
   ]
  },
  {
   "cell_type": "markdown",
   "metadata": {},
   "source": [
    "##### Крок 2. Перевірте точність обчислення створеної програми\n",
    "Використовуючи різні приклади паролів (наприклад, 'abc123', 'AAaaa', '12345', 'Aa1' тощо), перевірте коректність кожної з перевірок №1-5 та точність обчислення змінної `U`."
   ]
  },
  {
   "cell_type": "code",
   "execution_count": null,
   "metadata": {},
   "outputs": [],
   "source": []
  },
  {
   "cell_type": "markdown",
   "id": "5da8a59df7ea8285",
   "metadata": {
    "collapsed": false
   },
   "source": [
    "##### Крок 3. Продемонструйте на прикладах роботу своєї програми. Наведіть приклади слабкого, середнього та сильного паролів\n",
    "Програма має виводити як повідомлення щодо складності пароля, так і набране значення змінної `U`."
   ]
  },
  {
   "cell_type": "code",
   "execution_count": 3,
   "id": "844cb910be64954",
   "metadata": {
    "ExecuteTime": {
     "end_time": "2023-09-27T09:15:12.494475381Z",
     "start_time": "2023-09-27T09:15:12.402467199Z"
    },
    "collapsed": false
   },
   "outputs": [
    {
     "name": "stdout",
     "output_type": "stream",
     "text": [
      "Пароль дуже слабкий, 6\n"
     ]
    }
   ],
   "source": [
    "password1 = '12345'\n",
    "# виклик функції\n",
    "check_password(password1)\n",
    "\n",
    "password2 = ''\n",
    "# виклик функції\n",
    "# ...\n"
   ]
  },
  {
   "cell_type": "markdown",
   "metadata": {},
   "source": [
    "#### Частина 2. Злам слабкого паролю"
   ]
  },
  {
   "cell_type": "markdown",
   "metadata": {},
   "source": [
    "**Завдання**: Перевірити на практиці стійкість слабкого пароля до зламу \n",
    "\n",
    "Інструменти для зламу пароля також часто використовуються і для відновлення, коли відомо його хеш-значення. Це, зокрема, характерно для операційних систем Linux/Unix, де налаштування облікових записів зберігаються у файлах."
   ]
  },
  {
   "cell_type": "markdown",
   "id": "aca3d6ec4ce16dad",
   "metadata": {
    "collapsed": false
   },
   "source": [
    "##### Крок 1. Обчислити для слабкого пароля його хеш-значення (MD5)\n",
    "В блоці далі наведено фрагмент коду для обчислення хеш-значення для пароля, його слід замінити на власне значення слабкого пароля, визначеного в **частині 1** даної роботи:"
   ]
  },
  {
   "cell_type": "code",
   "execution_count": 1,
   "id": "441551d24f2bda9a",
   "metadata": {
    "ExecuteTime": {
     "end_time": "2023-09-27T11:42:53.383111102Z",
     "start_time": "2023-09-27T11:42:52.234933392Z"
    },
    "collapsed": false
   },
   "outputs": [
    {
     "name": "stdout",
     "output_type": "stream",
     "text": [
      "1e26a82461ec014f7c580d848b72b61a\n"
     ]
    }
   ],
   "source": [
    "import hashlib\n",
    "\n",
    "# ph = hashlib.md5(b'12345')\n",
    "password = 'ef12345'\n",
    "ph = hashlib.md5(password.encode()) # encode to UTF-8 bytes\n",
    "print(ph.hexdigest())"
   ]
  },
  {
   "cell_type": "markdown",
   "metadata": {},
   "source": [
    "##### Крок 2. Зберегти хеш-значення у файл\n",
    "Придумати довільний логін і зберегти разом з хеш-значення у текстовому файлі `pass.txt` в форматі: \\\n",
    "`login:hash`\n",
    "\n",
    "Наприклад, для варіанту вище: \\\n",
    "`user:1e26a82461ec014f7c580d848b72b61a`"
   ]
  },
  {
   "cell_type": "markdown",
   "id": "683b4b97181243e",
   "metadata": {
    "collapsed": false
   },
   "source": [
    "##### Крок 3. Встановити програму злому паролів \"John the Ripper\"\n",
    "**John the Ripper** - програмне забезпечення для зламу та відновлення паролів. \\\n",
    "Офіційна сторінка і інформація по встановленню - https://www.openwall.com/john/ \\\n",
    "Сторінка документації - https://www.openwall.com/john/doc/ \n",
    "\n",
    "При використанні John the Ripper незалежно від ОС (Linux чи Windows) необхідно коректно вказати власні шляхи до програми та файлу, який аналізується. Якщо програма і файл з хешем знаходяться в різних теках (папках), то для зручності рекомендується один з наступних варіантів:\n",
    "- відкрити папку з файлом, через контексне меню запустити термінал, далі при вказанні програми - вказати повний шлях до програми;\n",
    "- або відкрити папку з програмою, через контексне меню запустити термінал, далі при вказанні файлу - вказати повний шлях до файлу з хешем\n",
    "\n",
    "**Примітка**: Якщо повний шлях до файлу або програми містить пробіли (можливо і для кирилиці), весь шлях включно з назвою програми/файлу слід взяти у подвійні лапки `\"C:\\some path\\some folder\\file\"`.\n",
    "\n",
    "1. Завантажте версію jumbo-release для своєї операційної системи. \n",
    "2. Розпакувати архів, шлях до виконуваного файлу - `архів\\run\\john.exe` (у Windows) і `архів/run/john` (у Linux).\n",
    "3. Ознайомтесь з документацією - як використовувати програму або введіть в командному рядку з місця розташування виконуваного файлу:     "
   ]
  },
  {
   "cell_type": "code",
   "execution_count": null,
   "id": "1d519b67d48984a0",
   "metadata": {
    "collapsed": false
   },
   "outputs": [
    {
     "name": "stdout",
     "output_type": "stream",
     "text": [
      "John the Ripper 1.9.0-jumbo-1+bleeding-15b3b7c 2023-04-03 12:44:54 -0300 OMP [linux-gnu 64-bit x86_64 AVX2 AC]\r\n",
      "Copyright (c) 1996-2022 by Solar Designer and others\r\n",
      "Homepage: https://www.openwall.com/john/\r\n",
      "\r\n",
      "Usage: john [OPTIONS] [PASSWORD-FILES]\r\n",
      "\r\n",
      "--help                     Print usage summary\r\n",
      "--single[=SECTION[,..]]    \"Single crack\" mode, using default or named rules\r\n",
      "--single=:rule[,..]        Same, using \"immediate\" rule(s)\r\n",
      "--single-seed=WORD[,WORD]  Add static seed word(s) for all salts in single mode\r\n",
      "--single-wordlist=FILE     *Short* wordlist with static seed words/morphemes\r\n",
      "--single-user-seed=FILE    Wordlist with seeds per username (user:password[s]\r\n",
      "                           format)\r\n",
      "--single-pair-max=N        Override max. number of word pairs generated (6)\r\n",
      "--no-single-pair           Disable single word pair generation\r\n",
      "--[no-]single-retest-guess Override config for SingleRetestGuess\r\n",
      "--wordlist[=FILE] --stdin  Wordlist mode, read words from FILE or stdin\r\n",
      "                  --pipe   like --stdin, but bulk reads, and allows rules\r\n",
      "--rules[=SECTION[,..]]     Enable word mangling rules (for wordlist or PRINCE\r\n",
      "                           modes), using default or named rules\r\n",
      "--rules=:rule[;..]]        Same, using \"immediate\" rule(s)\r\n",
      "--rules-stack=SECTION[,..] Stacked rules, applied after regular rules or to\r\n",
      "                           modes that otherwise don't support rules\r\n",
      "--rules-stack=:rule[;..]   Same, using \"immediate\" rule(s)\r\n",
      "--rules-skip-nop           Skip any NOP \":\" rules (you already ran w/o rules)\r\n",
      "--loopback[=FILE]          Like --wordlist, but extract words from a .pot file\r\n",
      "--mem-file-size=SIZE       Size threshold for wordlist preload (default 150 MB)\r\n",
      "--dupe-suppression[=SIZE]  Opportunistic dupe suppression for wordlist+rules\r\n",
      "--incremental[=MODE]       \"Incremental\" mode [using section MODE]\r\n",
      "--incremental-charcount=N  Override CharCount for incremental mode\r\n",
      "--external=MODE            External mode or word filter\r\n",
      "--mask[=MASK]              Mask mode using MASK (or default from john.conf)\r\n",
      "--markov[=OPTIONS]         \"Markov\" mode (see doc/MARKOV)\r\n",
      "--mkv-stats=FILE           \"Markov\" stats file\r\n",
      "--prince[=FILE]            PRINCE mode, read words from FILE\r\n",
      "--prince-loopback[=FILE]   Fetch words from a .pot file\r\n",
      "--prince-elem-cnt-min=N    Minimum number of elements per chain (1)\r\n",
      "--prince-elem-cnt-max=[-]N Maximum number of elements per chain (negative N is\r\n",
      "                           relative to word length) (8)\r\n",
      "--prince-skip=N            Initial skip\r\n",
      "--prince-limit=N           Limit number of candidates generated\r\n",
      "--prince-wl-dist-len       Calculate length distribution from wordlist\r\n",
      "--prince-wl-max=N          Load only N words from input wordlist\r\n",
      "--prince-case-permute      Permute case of first letter\r\n",
      "--prince-mmap              Memory-map infile (not available with case permute)\r\n",
      "--prince-keyspace          Just show total keyspace that would be produced\r\n",
      "                           (disregarding skip and limit)\r\n",
      "--subsets[=CHARSET]        \"Subsets\" mode (see doc/SUBSETS)\r\n",
      "--subsets-required=N       The N first characters of \"subsets\" charset are\r\n",
      "                           the \"required set\"\r\n",
      "--subsets-min-diff=N       Minimum unique characters in subset\r\n",
      "--subsets-max-diff=[-]N    Maximum unique characters in subset (negative N is\r\n",
      "                           relative to word length)\r\n",
      "--subsets-prefer-short     Prefer shorter candidates over smaller subsets\r\n",
      "--subsets-prefer-small     Prefer smaller subsets over shorter candidates\r\n",
      "--make-charset=FILE        Make a charset, FILE will be overwritten\r\n",
      "--stdout[=LENGTH]          Just output candidate passwords [cut at LENGTH]\r\n",
      "--session=NAME             Give a new session the NAME\r\n",
      "--status[=NAME]            Print status of a session [called NAME]\r\n",
      "--restore[=NAME]           Restore an interrupted session [called NAME]\r\n",
      "--[no-]crack-status        Emit a status line whenever a password is cracked\r\n",
      "--progress-every=N         Emit a status line every N seconds\r\n",
      "--show[=left]              Show cracked passwords [if =left, then uncracked]\r\n",
      "--show=formats             Show information about hashes in a file (JSON)\r\n",
      "--show=invalid             Show lines that are not valid for selected format(s)\r\n",
      "--test[=TIME]              Run tests and benchmarks for TIME seconds each\r\n",
      "                           (if TIME is explicitly 0, test w/o benchmark)\r\n",
      "--stress-test[=TIME]       Loop self tests forever\r\n",
      "--test-full=LEVEL          Run more thorough self-tests\r\n",
      "--no-mask                  Used with --test for alternate benchmark w/o mask\r\n",
      "--skip-self-tests          Skip self tests\r\n",
      "--users=[-]LOGIN|UID[,..]  [Do not] load this (these) user(s) only\r\n",
      "--groups=[-]GID[,..]       Load users [not] of this (these) group(s) only\r\n",
      "--shells=[-]SHELL[,..]     Load users with[out] this (these) shell(s) only\r\n",
      "--salts=[-]COUNT[:MAX]     Load salts with[out] COUNT [to MAX] hashes, or\r\n",
      "--salts=#M[-N]             Load M [to N] most populated salts\r\n",
      "--costs=[-]C[:M][,...]     Load salts with[out] cost value Cn [to Mn]. For\r\n",
      "                           tunable cost parameters, see doc/OPTIONS\r\n",
      "--fork=N                   Fork N processes\r\n",
      "--node=MIN[-MAX]/TOTAL     This node's number range out of TOTAL count\r\n",
      "--save-memory=LEVEL        Enable memory saving, at LEVEL 1..3\r\n",
      "--log-stderr               Log to screen instead of file\r\n",
      "--verbosity=N              Change verbosity (1-5 or 6 for debug, default 3)\r\n",
      "--no-log                   Disables creation and writing to john.log file\r\n",
      "--bare-always-valid=Y      Treat bare hashes as valid (Y/N)\r\n",
      "--catch-up=NAME            Catch up with existing (paused) session NAME\r\n",
      "--config=FILE              Use FILE instead of john.conf or john.ini\r\n",
      "--encoding=NAME            Input encoding (eg. UTF-8, ISO-8859-1). See also\r\n",
      "                           doc/ENCODINGS.\r\n",
      "--input-encoding=NAME      Input encoding (alias for --encoding)\r\n",
      "--internal-codepage=NAME   Codepage used in rules/masks (see doc/ENCODINGS)\r\n",
      "--target-encoding=NAME     Output encoding (used by format)\r\n",
      "--force-tty                Set up terminal for reading keystrokes even if we're\r\n",
      "                           not the foreground process\r\n",
      "--field-separator-char=C   Use 'C' instead of the ':' in input and pot files\r\n",
      "--[no-]keep-guessing       Try finding plaintext collisions\r\n",
      "--list=WHAT                List capabilities, see --list=help or doc/OPTIONS\r\n",
      "--length=N                 Shortcut for --min-len=N --max-len=N\r\n",
      "--min-length=N             Request a minimum candidate length in bytes\r\n",
      "--max-length=N             Request a maximum candidate length in bytes\r\n",
      "--max-candidates=[-]N      Gracefully exit after this many candidates tried.\r\n",
      "                           (if negative, reset count on each crack)\r\n",
      "--max-run-time=[-]N        Gracefully exit after this many seconds (if negative,\r\n",
      "                           reset timer on each crack)\r\n",
      "--mkpc=N                   Request a lower max. keys per crypt\r\n",
      "--no-loader-dupe-check     Disable the dupe checking when loading hashes\r\n",
      "--pot=NAME                 Pot file to use\r\n",
      "--regen-lost-salts=N       Brute force unknown salts (see doc/OPTIONS)\r\n",
      "--reject-printable         Reject printable binaries\r\n",
      "--tune=HOW                 Tuning options (auto/report/N)\r\n",
      "\r\n",
      "OpenCL options:\r\n",
      "--devices=N[,..]           Set OpenCL device(s) (see --list=opencl-devices)\r\n",
      "--mask-internal-target=N   Request a specific internal mask target\r\n",
      "--force-scalar             Force scalar mode\r\n",
      "--force-vector-width=N     Force vector width N\r\n",
      "--lws=N                    Force local worksize N\r\n",
      "--gws=N                    Force global worksize N\r\n",
      "\r\n",
      "--subformat=FORMAT         Pick a benchmark format for --format=crypt\r\n",
      "--format=[NAME|CLASS][,..] Force hash of type NAME. The supported formats can\r\n",
      "                           be seen with --list=formats and --list=subformats.\r\n",
      "                           See also doc/OPTIONS for more advanced selection of\r\n",
      "                           format(s), including using classes and wildcards.\r\n"
     ]
    }
   ],
   "source": [
    "# Справка команди (має бути доданий коректний шлях до самого файлу програми)\n",
    "!john --help"
   ]
  },
  {
   "cell_type": "markdown",
   "metadata": {},
   "source": [
    "\n",
    "##### Крок 4. Запустити програму на злам/відновлення пароля з файлу по його MD5-хешу\n",
    "Запустіть командний рядок у папці з файлом і виконайте команду \\\n",
    "`john --format=Raw-MD5 pass.txt` \\\n",
    "або скористуйтесь можливістю python працювати з командним рядком у форматі `!команда`"
   ]
  },
  {
   "cell_type": "code",
   "execution_count": null,
   "id": "84cb9820b22e70",
   "metadata": {
    "collapsed": false
   },
   "outputs": [],
   "source": [
    "program_path = ''\n",
    "file_path = ''\n",
    "!{program_path}john --format=Raw-MD5 {file_path}pass.txt"
   ]
  },
  {
   "cell_type": "markdown",
   "metadata": {},
   "source": [
    "Подивитися збережені результати можно використовуючи ключ `--show`: \\\n",
    "   `john --format=Raw-MD5 --show pass.txt`"
   ]
  },
  {
   "cell_type": "code",
   "execution_count": null,
   "id": "b4c5625c2d54ebc8",
   "metadata": {
    "collapsed": false
   },
   "outputs": [],
   "source": [
    "# перегляд результату\n",
    "!{program_path}john --show --format=Raw-MD5 {file_path}/pass.txt"
   ]
  },
  {
   "cell_type": "markdown",
   "id": "a8d6fd95c72cc837",
   "metadata": {
    "collapsed": false
   },
   "source": [
    "*Приклад власного результату:* \\\n",
    "**Файл(розшифрований)**: \\\n",
    "admin:cd12345 \\\n",
    "user:ef12345 \\\n",
    "**Час: 6 секунд**"
   ]
  },
  {
   "cell_type": "markdown",
   "metadata": {},
   "source": [
    "##### Крок 5. Оформити звіт про виконання роботи\n",
    "В звіті навести в ньому демонстрацію роботи програми оцінки складності пароля і кроки зламу слабкого пароля. У разі використання цього шаблону jupyter notebook достатньо надати сам файл блокноту зі збереженими результатами виконання блоків коду"
   ]
  },
  {
   "cell_type": "markdown",
   "id": "fe9d2b34a8f8b103",
   "metadata": {
    "collapsed": false
   },
   "source": [
    "##### Оцінювання роботи\n",
    "\n",
    "Максимальна оцінка в 100 балів, її складові:\n",
    "- коректна реалізація алгоритму, за кожну перевірку (№ 1-6) - \"+10 балів\"\n",
    "- результати паролів трьох рівнів складності, за кожний - \"+5 балів\"\n",
    "- використання програми John the Ripper - \"+10 балів\"\n",
    "- належним чином підготовлений звіт з титульною сторінкою (або шаблон jupyter notebook) з реалізацією і виконанням всіх завдань - \"до +15 балів\"\n",
    "- додаткові бали за використання функцій, класів тощо.\n",
    "\n",
    "**Примітка**: за відсутності звіту (або шаблону) робота не приймається\n"
   ]
  }
 ],
 "metadata": {
  "kernelspec": {
   "display_name": "Python 3",
   "language": "python",
   "name": "python3"
  },
  "language_info": {
   "codemirror_mode": {
    "name": "ipython",
    "version": 2
   },
   "file_extension": ".py",
   "mimetype": "text/x-python",
   "name": "python",
   "nbconvert_exporter": "python",
   "pygments_lexer": "ipython2",
   "version": "3.11.4"
  }
 },
 "nbformat": 4,
 "nbformat_minor": 5
}
